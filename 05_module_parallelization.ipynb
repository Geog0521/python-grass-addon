{
 "metadata": {
  "name": "",
  "signature": "sha256:2ca9d91f6a5bebca0b25c49fa6c106d30da39e1f37c4749894d0106dc200288c"
 },
 "nbformat": 3,
 "nbformat_minor": 0,
 "worksheets": [
  {
   "cells": [
    {
     "cell_type": "heading",
     "level": 1,
     "metadata": {},
     "source": [
      "Module parallelization"
     ]
    },
    {
     "cell_type": "markdown",
     "metadata": {},
     "source": [
      "Parallelization of your module could be the solution to obtain the results in an acceptable ammount of time.\n",
      "But you have to be careful to identify which id your bottleneck. \n",
      "Respect to other scientific task like for example numerical modelling:\n",
      "                          \n",
      "    +------------------+                        +---------------+\n",
      "    | input data       |                        |               |\n",
      "    | with the initial +----------------------->| final results |\n",
      "    | condition        |    long computation    |               |\n",
      "    +------------------+        tasks           +---------------+\n",
      "\n",
      "On GIS we are dealing with rather simple computation that are applied on heavy input data that required several heavy partial results before to obtain our result.\n",
      "\n",
      "    +------------+\n",
      "    |            |       +---------+    +---------+    +---------+\n",
      "    | input data +------>| partial +--->| partial +--->| partial +\n",
      "    |            |       | results |    | results |    | results |\n",
      "    +------------+       +---------+    +---------+    +----+----+\n",
      "                                                            |\n",
      "                                                            |\n",
      "    +---------------+    +---------+    +---------+    +---------+\n",
      "    |               |<---+ partial |<---+ partial |<---+ partial |\n",
      "    | final results |    | results |    | results |    | results |\n",
      "    |               |    +---------+    +---------+    +----+----+\n",
      "    +---------------+                                        \n",
      "\n",
      "Therefore respect to other parallelization tasks, in the GIS processing often the main botleneck is the hardisk read/write speed.\n",
      "Before start using all the cores available on your CPU check if you have already saturate the read/write capabilites of your system."
     ]
    },
    {
     "cell_type": "heading",
     "level": 2,
     "metadata": {},
     "source": [
      "ParallelModuleQueue"
     ]
    },
    {
     "cell_type": "markdown",
     "metadata": {},
     "source": [
      "A simple way to execute several modules in parallell developed by S\u00f6ren Gebbert is the ParallelModuleQueue class.\n",
      "The basic idea is to create a queue with all the modules that must be execute in parallel. The ParallelModuleQueue class is based on Module class of the pygrass library, here a small example with the vieshed:"
     ]
    },
    {
     "cell_type": "code",
     "collapsed": false,
     "input": [
      "# import the necessary libraries\n",
      "from copy import deepcopy\n",
      "\n",
      "from grass.pygrass.modules import Module, ParallelModuleQueue\n",
      "from grass.pygrass.vector import VectorTopo"
     ],
     "language": "python",
     "metadata": {},
     "outputs": []
    },
    {
     "cell_type": "code",
     "collapsed": false,
     "input": [
      "# define the global variables with the inputs\n",
      "TMP_VIEWSHED = 'tmp_viewshed_{:03}'\n",
      "ELEV = 'elevation'\n",
      "POINTS = 'view_points'"
     ],
     "language": "python",
     "metadata": {},
     "outputs": []
    },
    {
     "cell_type": "code",
     "collapsed": false,
     "input": [
      "# initialize an empty queue and list\n",
      "queue = ParallelModuleQueue(nprocs=4)\n",
      "viewsheds = []"
     ],
     "language": "python",
     "metadata": {},
     "outputs": []
    },
    {
     "cell_type": "code",
     "collapsed": false,
     "input": [
      "# initialize a module instance with shared inputs\n",
      "viewshed = Module('r.viewshed', input=ELEV, observer_elevation=3,\n",
      "                  run_=False, overwrite=True)\n",
      "\n",
      "# open the input vector map and start cycling over the vector points\n",
      "with VectorTopo(POINTS, mode='r') as points:\n",
      "    for point in points:\n",
      "        # create a copy of the module and set the missing parameters\n",
      "        print(point.id)\n",
      "        m = deepcopy(viewshed)(output=TMP_VIEWSHED.format(point.id),\n",
      "                               coordinates=point.coords())\n",
      "        viewsheds.append(m)\n",
      "        queue.put(m)\n",
      "    queue.wait()\n"
     ],
     "language": "python",
     "metadata": {},
     "outputs": []
    },
    {
     "cell_type": "code",
     "collapsed": false,
     "input": [
      "viewsheds"
     ],
     "language": "python",
     "metadata": {},
     "outputs": []
    },
    {
     "cell_type": "code",
     "collapsed": false,
     "input": [],
     "language": "python",
     "metadata": {},
     "outputs": []
    }
   ],
   "metadata": {}
  }
 ]
}
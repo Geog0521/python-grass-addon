{
 "metadata": {
  "name": "",
  "signature": "sha256:405bfa13aae43167dcacc8fc863322e533392a0702e827aee4b07dc9cddd77c7"
 },
 "nbformat": 3,
 "nbformat_minor": 0,
 "worksheets": [
  {
   "cells": [
    {
     "cell_type": "heading",
     "level": 1,
     "metadata": {},
     "source": [
      "Script for computing and analyzing viewsheds"
     ]
    },
    {
     "cell_type": "markdown",
     "metadata": {},
     "source": [
      "We will put together what we learned so far and write a script which will compute viewsheds from points and analyze the viewshed properties - viewshed size, number of visible points and the distance to the closest visible point.\n",
      "\n",
      "Both PyGRASS and GRASS Python Scripting Library will be used."
     ]
    },
    {
     "cell_type": "markdown",
     "metadata": {},
     "source": [
      "We will compute viewsheds on raster `elevation` (in PERMANENT mapset) from vector points.\n",
      "\n",
      "To simplify rerunning examples, we set this environmental variable,\n",
      "which allows overwriting results from previous runs."
     ]
    },
    {
     "cell_type": "code",
     "collapsed": false,
     "input": [
      "import os\n",
      "os.environ['GRASS_OVERWRITE'] = '1'"
     ],
     "language": "python",
     "metadata": {},
     "outputs": []
    },
    {
     "cell_type": "markdown",
     "metadata": {},
     "source": [
      "First generate the input points:"
     ]
    },
    {
     "cell_type": "code",
     "collapsed": false,
     "input": [
      "import grass.script as gscript\n",
      "\n",
      "gscript.run_command('g.region', n=225200, s=222500, w=637500, e=640000, raster='elevation')\n",
      "gscript.run_command('v.random', output='input_points', npoints=20, seed=2, quiet=True)"
     ],
     "language": "python",
     "metadata": {},
     "outputs": []
    },
    {
     "cell_type": "heading",
     "level": 3,
     "metadata": {},
     "source": [
      "Workflow for 1 point"
     ]
    },
    {
     "cell_type": "markdown",
     "metadata": {},
     "source": [
      "Before we start the loop over all the points, we will try the workflow with only one point. \n"
     ]
    },
    {
     "cell_type": "code",
     "collapsed": false,
     "input": [
      "from grass.pygrass.vector.geometry import Point\n",
      "point = Point(638104, 223048)"
     ],
     "language": "python",
     "metadata": {},
     "outputs": []
    },
    {
     "cell_type": "markdown",
     "metadata": {},
     "source": [
      "Compute viewshed from this point and then change invisible cells to nulls and visible cells to 1 (this is needed for converting it to vector further on)."
     ]
    },
    {
     "cell_type": "code",
     "collapsed": false,
     "input": [
      "elevation = 'elevation'\n",
      "input_points = 'input_points'\n",
      "viewshed_name = 'viewshed'\n",
      "tmp_viewshed_name = 'tmp_viewshed'\n",
      "viewshed_id = 1\n",
      "\n",
      "gscript.run_command('r.viewshed', input=elevation, observer_elevation=3,\n",
      "                    output=tmp_viewshed_name, coordinates=point.coords())\n",
      "gscript.mapcalc(exp=\"{viewshed} = if({tmp}, {vid}, null())\".format(viewshed=viewshed_name,\n",
      "                                                                   tmp=tmp_viewshed_name,\n",
      "                                                                   vid=viewshed_id))"
     ],
     "language": "python",
     "metadata": {},
     "outputs": []
    },
    {
     "cell_type": "markdown",
     "metadata": {},
     "source": [
      "As a first property of the viewshed, compute its area. The area is computed as number of non-null cells times cell size. The result is in map units squared (squared meters in this case)."
     ]
    },
    {
     "cell_type": "code",
     "collapsed": false,
     "input": [
      "cells = gscript.parse_command('r.univar', map=viewshed_name,\n",
      "                              flags='g')['n']\n",
      "print(cells)\n",
      "area = float(cells) * gscript.region()['nsres'] * gscript.region()['nsres']\n",
      "print(area)"
     ],
     "language": "python",
     "metadata": {},
     "outputs": []
    },
    {
     "cell_type": "markdown",
     "metadata": {},
     "source": [
      "Next task is to find and count the number of points from the input vector which are visible from the current point. One way to do this is to derive the vector of visible points by spatially overlapping the input points with the viewshed. The viewshed must be converted to vector first."
     ]
    },
    {
     "cell_type": "code",
     "collapsed": false,
     "input": [
      "visible_points = 'tmp_points'\n",
      "gscript.run_command('r.to.vect', input=viewshed_name, output=viewshed_name,\n",
      "                    type='area')\n",
      "gscript.run_command('v.select', ainput=input_points, atype='point',\n",
      "                    binput=viewshed_name, btype='area', \n",
      "                    operator='overlap', flags='t', output=visible_points)"
     ],
     "language": "python",
     "metadata": {},
     "outputs": []
    },
    {
     "cell_type": "markdown",
     "metadata": {},
     "source": [
      "We can get the number of points using `vector_info_topo`, a wrapper function around `v.info`."
     ]
    },
    {
     "cell_type": "code",
     "collapsed": false,
     "input": [
      "n_points_visible = gscript.vector_info_topo(visible_points)['points']\n",
      "print n_points_visible"
     ],
     "language": "python",
     "metadata": {},
     "outputs": []
    },
    {
     "cell_type": "markdown",
     "metadata": {},
     "source": [
      "Last viewshed property we compute is the distance from the current point to the closest visible point.\n",
      "Since `v.distance` requires vectors, we first save the current point as a separate vector."
     ]
    },
    {
     "cell_type": "code",
     "collapsed": false,
     "input": [
      "tmp_point = 'tmp_current_point' \n",
      "if float(n_points_visible) >= 1:\n",
      "    gscript.write_command('v.in.ascii', input='-', stdin='%s|%s' % (point.x, point.y),\n",
      "                          output=tmp_point)\n",
      "    distance = gscript.read_command('v.distance', from_=tmp_point, from_type='point', flags='p',\n",
      "                                    to=visible_points, to_type='point', upload='dist', dmin=1).strip()\n",
      "    \n",
      "    distance = float(distance.splitlines()[1].split('|')[1])\n",
      "else:\n",
      "    distance = 0\n",
      "print(distance)"
     ],
     "language": "python",
     "metadata": {},
     "outputs": []
    },
    {
     "cell_type": "heading",
     "level": 3,
     "metadata": {},
     "source": [
      "Workflow for multiple points"
     ]
    },
    {
     "cell_type": "markdown",
     "metadata": {},
     "source": [
      "Now we will put the previous snippets together and compute the viewshed properties in a loop for all input points.\n",
      "\n",
      "Notice that we subtract 1 from the number of visible points since the current point is one of the visible ones."
     ]
    },
    {
     "cell_type": "code",
     "collapsed": false,
     "input": [
      "from grass.pygrass.vector import Vector\n",
      "import grass.script as gscript\n",
      "\n",
      "\n",
      "elevation = 'elevation'\n",
      "input_points = 'input_points'\n",
      "viewshed_name = 'viewshed'\n",
      "tmp_viewshed_name = 'tmp_viewshed'\n",
      "visible_points = 'tmp_points'\n",
      "tmp_point = 'tmp_current_point'\n",
      "\n",
      "\n",
      "with Vector(input_points, mode='r') as points:\n",
      "    for point in points:\n",
      "        viewshed_id = str(point.cat)\n",
      "        gscript.run_command('r.viewshed', input=elevation, observer_elevation=3,\n",
      "                            output=tmp_viewshed_name, coordinates=point.coords())\n",
      "        gscript.mapcalc(exp=\"{viewshed} = if({tmp}, {vid}, null())\".format(viewshed=viewshed_name,\n",
      "                                                                           tmp=tmp_viewshed_name,\n",
      "                                                                           vid=viewshed_id))\n",
      "\n",
      "        # viewshed size\n",
      "        cells = gscript.parse_command('r.univar', map=viewshed_name,\n",
      "                                      flags='g')['n']\n",
      "        area = float(cells) * gscript.region()['nsres'] * gscript.region()['nsres']\n",
      "\n",
      "\n",
      "        # visible points\n",
      "        gscript.run_command('r.to.vect', input=viewshed_name, output=viewshed_name,\n",
      "                            type='area')\n",
      "        gscript.run_command('v.select', ainput=input_points, atype='point',\n",
      "                            binput=viewshed_name, btype='area', \n",
      "                            operator='overlap', flags='t', output=visible_points)\n",
      "        n_points_visible = gscript.vector_info_topo(visible_points)['points'] - 1\n",
      "    \n",
      "    \n",
      "        # distance to closest visible point\n",
      "        if float(n_points_visible) >= 1:\n",
      "            gscript.write_command('v.in.ascii', input='-', stdin='%s|%s' % (point.x, point.y),\n",
      "                                  output=tmp_point)\n",
      "            distance = gscript.read_command('v.distance', from_=tmp_point, from_type='point', flags='p',\n",
      "                                            to=visible_points, to_type='point', upload='dist', dmin=1).strip()\n",
      "\n",
      "            distance = float(distance.splitlines()[1].split('|')[1])\n",
      "        else:\n",
      "            distance = 0\n",
      "        print \"%s, %d, %s, %.2f\" % (viewshed_id, area, n_points_visible, distance)\n",
      "    "
     ],
     "language": "python",
     "metadata": {},
     "outputs": []
    },
    {
     "cell_type": "markdown",
     "metadata": {},
     "source": [
      "Instead of printing resulting properties on standard output, we save them into the attribute table of the input vector."
     ]
    },
    {
     "cell_type": "code",
     "collapsed": false,
     "input": [],
     "language": "python",
     "metadata": {},
     "outputs": []
    }
   ],
   "metadata": {}
  }
 ]
}
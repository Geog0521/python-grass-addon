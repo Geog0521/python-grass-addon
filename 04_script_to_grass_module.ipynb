{
 "metadata": {
  "name": "",
  "signature": "sha256:d76d32bf27578f85018c25c8f7394ed24edba92ae40b768cdfe000d3267f1957"
 },
 "nbformat": 3,
 "nbformat_minor": 0,
 "worksheets": [
  {
   "cells": [
    {
     "cell_type": "heading",
     "level": 1,
     "metadata": {},
     "source": [
      "Changing a script into a GRASS GIS module"
     ]
    },
    {
     "cell_type": "markdown",
     "metadata": {},
     "source": [
      "First, a Python script must contain the so-called 'shebang' (definition of the interpreter in the first line of the script) for which we here use `/usr/bin/env` to call the right Python interpreter on Unix systems. Second, the code should be written as functions rather than directly on the top level. The standard template is the following:"
     ]
    },
    {
     "cell_type": "code",
     "collapsed": false,
     "input": [
      "#!/usr/bin/env python\n",
      "\n",
      "def main():\n",
      "    pass\n",
      "\n",
      "if __name__ == '__main__':\n",
      "    main()\n"
     ],
     "language": "python",
     "metadata": {},
     "outputs": []
    },
    {
     "cell_type": "heading",
     "level": 2,
     "metadata": {},
     "source": [
      "GRASS GIS parser"
     ]
    },
    {
     "cell_type": "markdown",
     "metadata": {},
     "source": [
      "Every GRASS GIS module must use the GRASS parser mechanism. This very advanced parser helps to check the user interput, format the help text and optionally create a graphical user interface for the new module.\n",
      "In Python, this means calling the `parser()` function from `grass.script` package. This function parses the special comments written at the beginning of the Python file (below the 'shebang'), processes the parameters provided in command line when using the module and provides these data accordingly within the module. These special comments start with `#%` and can be referred to as *interface definition comment*."
     ]
    },
    {
     "cell_type": "heading",
     "level": 3,
     "metadata": {},
     "source": [
      "Minimal template"
     ]
    },
    {
     "cell_type": "markdown",
     "metadata": {},
     "source": [
      "The *interface definition comment* should contain at least the description of the module and two keywords as shown below.  [Existing GRASS GIS Python scripts](https://trac.osgeo.org/grass/browser/grass/branches/releasebranch_7_0/scripts/) may help to understand the best practice. These values are defined in section `module` which contains the `description` and `keyword` keys."
     ]
    },
    {
     "cell_type": "code",
     "collapsed": false,
     "input": [
      "%%file r.viewshed.points.py\n",
      "#!/usr/bin/env python\n",
      "\n",
      "#%module\n",
      "#% description: Compute and analyze viewsheds\n",
      "#% keyword: raster\n",
      "#% keyword: viewshed\n",
      "#%end\n",
      "\n",
      "import grass.script as gscript\n",
      "\n",
      "def main():\n",
      "    gscript.parser()\n",
      "\n",
      "if __name__ == '__main__':\n",
      "    main()\n",
      "\n"
     ],
     "language": "python",
     "metadata": {},
     "outputs": []
    },
    {
     "cell_type": "markdown",
     "metadata": {},
     "source": [
      "Note that the GRASS GIS parser requires a new line character at the end of file. In this case IPython Notebook requires to include two empty lines at the end of file."
     ]
    },
    {
     "cell_type": "markdown",
     "metadata": {},
     "source": [
      "To run the script, we need to set its permissions to 'executable'."
     ]
    },
    {
     "cell_type": "code",
     "collapsed": false,
     "input": [
      "!chmod u+x r.viewshed.points.py"
     ],
     "language": "python",
     "metadata": {},
     "outputs": []
    },
    {
     "cell_type": "markdown",
     "metadata": {},
     "source": [
      "Now we can execute the script as a GRASS GIS module with `--help` to get the command line help output."
     ]
    },
    {
     "cell_type": "code",
     "collapsed": false,
     "input": [
      "!./r.viewshed.points.py --help"
     ],
     "language": "python",
     "metadata": {},
     "outputs": []
    },
    {
     "cell_type": "heading",
     "level": 3,
     "metadata": {},
     "source": [
      "Adding parameters as standard options"
     ]
    },
    {
     "cell_type": "markdown",
     "metadata": {},
     "source": [
      "Now we will add parameters to our module. We want to pass the name of an elevation raster map and of a vector points map. In the *interface definition comment* we hence add a section `option` for each of these maps and define respectively standard (or predefined) options. For the elevation raster map we use `G_OPT_R_INPUT` and for the points vector map `G_OPT_V_INPUT`. Both these standard options are named `input` by default, so we have to give them unique names. Here we will use `elevation` for the raster and `points` for the vector map. The option's name is defined using a key named `key`."
     ]
    },
    {
     "cell_type": "code",
     "collapsed": false,
     "input": [
      "%%file r.viewshed.points.py\n",
      "#!/usr/bin/env python\n",
      "\n",
      "#%module\n",
      "#% description: Compute and analyze viewsheds\n",
      "#% keyword: raster\n",
      "#% keyword: viewshed\n",
      "#%end\n",
      "#%option G_OPT_R_INPUT\n",
      "#% key: elevation\n",
      "#%end\n",
      "#%option G_OPT_V_INPUT\n",
      "#% key: points\n",
      "#%end\n",
      "\n",
      "import grass.script as gscript\n",
      "\n",
      "def main():\n",
      "    options, flags = gscript.parser()\n",
      "    elevation = options['elevation']\n",
      "    points = options['points']\n",
      "    print(elevation, points)\n",
      "\n",
      "if __name__ == '__main__':\n",
      "    main()\n",
      "\n"
     ],
     "language": "python",
     "metadata": {},
     "outputs": []
    },
    {
     "cell_type": "code",
     "collapsed": false,
     "input": [
      "!./r.viewshed.points.py --help"
     ],
     "language": "python",
     "metadata": {},
     "outputs": []
    },
    {
     "cell_type": "code",
     "collapsed": false,
     "input": [
      "!./r.viewshed.points.py elevation=elevation points=bridges"
     ],
     "language": "python",
     "metadata": {},
     "outputs": []
    },
    {
     "cell_type": "heading",
     "level": 3,
     "metadata": {},
     "source": [
      "Adding parameters as custom options"
     ]
    },
    {
     "cell_type": "markdown",
     "metadata": {},
     "source": [
      "When using standard options, all items are predefined by the parser but we can modify e.g. `key` or other items to our needs. However, for other cases, we have to define the options completely from scratch. In our example, we introduce a non-standard key with name `max_distance` which has its `type` set to `double`. We use additionally `description` to document the meaning of this option. In case we would need a longer description we may use the `label` key for a short and concise description and the `description` key for more lengthy and wordy description. In addition to the `description` we add also `key_desc` which is a short hint for a proper syntax. Again, the [existing GRASS GIS Python scripts](https://trac.osgeo.org/grass/browser/grass/branches/releasebranch_7_0/scripts/) may help to quickly understand the best practice.\n",
      "\n",
      "Our `max_distance` parameter option has as default value `-1` which stands for *infinity* in the case of viewsheds. The user is not required to provide this option, so we set `required` to `no`. Also, there can be only one value provided for this option, so we set `multiple` to `no` as well."
     ]
    },
    {
     "cell_type": "code",
     "collapsed": false,
     "input": [
      "%%file r.viewshed.points.py\n",
      "#!/usr/bin/env python\n",
      "\n",
      "#%module\n",
      "#% description: Compute and analyze viewsheds\n",
      "#% keyword: raster\n",
      "#% keyword: viewshed\n",
      "#%end\n",
      "#%option G_OPT_R_INPUT\n",
      "#% key: elevation\n",
      "#%end\n",
      "#%option G_OPT_V_INPUT\n",
      "#% key: points\n",
      "#%end\n",
      "#%option\n",
      "#% key: max_distance\n",
      "#% key_desc: value\n",
      "#% type: double\n",
      "#% description: Maximum visibility radius. By default infinity (-1)\n",
      "#% answer: -1\n",
      "#% multiple: no\n",
      "#% required: no\n",
      "#%end\n",
      "\n",
      "import grass.script as gscript\n",
      "\n",
      "def main():\n",
      "    options, flags = gscript.parser()\n",
      "    elevation = options['elevation']\n",
      "    points = options['points']\n",
      "    max_distance = float(options['max_distance'])\n",
      "    print(elevation, points, max_distance)\n",
      "\n",
      "if __name__ == '__main__':\n",
      "    main()\n",
      "\n"
     ],
     "language": "python",
     "metadata": {},
     "outputs": []
    },
    {
     "cell_type": "code",
     "collapsed": false,
     "input": [
      "!./r.viewshed.points.py elevation=elevation points=bridges max_distance=50"
     ],
     "language": "python",
     "metadata": {},
     "outputs": []
    },
    {
     "cell_type": "heading",
     "level": 2,
     "metadata": {},
     "source": [
      "Compilation and formal requirements"
     ]
    },
    {
     "cell_type": "markdown",
     "metadata": {},
     "source": [
      "As mentioned before, a GRASS GIS module must use the GRASS parser to handle its command line parameters.\n",
      "A module reads and/or writes geospatial data as GRASS raster or vector maps.\n",
      "A module should not overwrite existing data unless specified by the user using the `--overwrite` flag.\n",
      "For raster and vector maps and other files, the GRASS parser automatically checks their existence and ends the module execution with a proper error message in case the output already exists.\n",
      "\n",
      "Furthermore, a file with documentation which uses [simple HTML syntax](https://trac.osgeo.org/grass/wiki/Submitting/Docs#HTMLPages) must be provided.\n",
      "This documentation is then distributed with the addon and it is also automatically available online ([GRASS addons docs](http://grass.osgeo.org/grass70/manuals/addons/)).\n",
      "A template with the main sections follows."
     ]
    },
    {
     "cell_type": "code",
     "collapsed": false,
     "input": [
      "%%file r.viewshed.points.html\n",
      "<h2>DESCRIPTION</h2>\n",
      "\n",
      "A long description with details about the method, implementation, usage or whatever is appropriate.\n",
      "\n",
      "<h2>EXAMPLES</h2>\n",
      "\n",
      "Examples of how the module can be used alone or in combination with other modules.\n",
      "Possibly using the GRASS North Carolina State Plane Metric sample Location.\n",
      "At least one screenshot (PNG format) of the result should provided to show the user what to expect.\n",
      "\n",
      "<h2>REFERENCES</h2>\n",
      "\n",
      "Reference or references to paper related to the module or references which algorithm the module is based on.\n",
      "\n",
      "<h2>SEE ALSO</h2>\n",
      "\n",
      "List of related or similar GRASS GIS modules or modules used together with this module as well as any related websites, or\n",
      "related pages at the GRASS GIS User wiki.\n",
      "\n",
      "<h2>AUTHORS</h2>\n",
      "\n",
      "List of author(s), their organizations and funding sources."
     ],
     "language": "python",
     "metadata": {},
     "outputs": []
    },
    {
     "cell_type": "markdown",
     "metadata": {},
     "source": [
      "All GRASS GIS modules must be distributed under GNU GPL license (version 2 or later).\n",
      "There is a specified way how the first comment in module's main file should look like.\n",
      "Here is how it can look like for our module:\n",
      "\n",
      "    \"\"\"\n",
      "    MODULE:    r.viewshed.points\n",
      "\n",
      "    AUTHOR(S): John Smith <email at some domain>\n",
      "\n",
      "    PURPOSE:   Computes viewshed for multiple points\n",
      "\n",
      "    COPYRIGHT: (C) 2015 John Smith\n",
      "\n",
      "               This program is free software under the GNU General Public\n",
      "               License (>=v2). Read the file COPYING that comes with GRASS\n",
      "               for details.\n",
      "    \"\"\""
     ]
    },
    {
     "cell_type": "markdown",
     "metadata": {},
     "source": [
      "Although Python is not a compiled language like C, we need to 'compile' also the Python based GRASS GIS module in order to include it in our GRASS installation, and to create HTML documentation and GUI. For this a *Makefile* needs to be written which follows a standard template as well. The included 'Script.make' takes care of processing everything, given that the Python script, the HTML documentation and optional screenshot(s) in PNG format are present in the same directory."
     ]
    },
    {
     "cell_type": "code",
     "collapsed": false,
     "input": [
      "%%file Makefile\n",
      "MODULE_TOPDIR = ../..\n",
      "\n",
      "PGM = r.viewshed.points\n",
      "\n",
      "include $(MODULE_TOPDIR)/include/Make/Script.make\n",
      "\n",
      "default: script"
     ],
     "language": "python",
     "metadata": {},
     "outputs": []
    },
    {
     "cell_type": "heading",
     "level": 2,
     "metadata": {},
     "source": [
      "Submitting the new module to the GRASS GIS addons repository"
     ]
    },
    {
     "cell_type": "markdown",
     "metadata": {},
     "source": [
      "It is important to follow the __PEP8 style__ guide. You can use the *pep8* tool to control it. To identify problems in your Python code, you can use *pylint*. See also the GRASS GIS [submitting rules and best practices](https://trac.osgeo.org/grass/wiki/Submitting/Python) for Python code. Please note that not all examples yet follow strictly all PEP8 rules. This is usually just for saving space or for other documentation-related reasons. You should always respect PEP8 in your scripts. \n",
      "\n",
      "Read about getting a write access to GRASS addons repository at [How To Contribute](https://trac.osgeo.org/grass/wiki/HowToContribute#WriteaccesstotheGRASS-Addons-SVNrepository) and then contact the GRASS Project Steering Committee, the [grass-psc](https://lists.osgeo.org/listinfo/grass-psc) mailing list (you have to subscribed to the list first).\n",
      "\n",
      "GRASS GIS is using a Subversion (SVN) repository provided by OSGeo. To get your code into the repository upon acceptance by the PSC, you need the following commands:\n",
      "* `svn checkout https://svn.osgeo.org/grass/grass-addons` to download locally the repository,\n",
      "* `svn add` to add your files and directories (add it to the proper category within the grass7/ subdirectory),\n",
      "* set the SVN file properties locally which is easily done with is a script (`tools/module_svn_propset.sh`) found in the `grass-addons`. This script, provided with the files to update will set the required properties automatically,\n",
      "* `svn commit` to commit a new version and upload it to the remote SVN repository.\n",
      "\n",
      "Now the new module is available to all users and can be installed with [g.extension](http://grass.osgeo.org/grass70/manuals/g.extension.html). Furthermore, it will show up in the subsequent day(s) in the [GRASS GIS 7 addon manual pages](http://grass.osgeo.org/grass70/manuals/addons/)."
     ]
    }
   ],
   "metadata": {}
  }
 ]
}
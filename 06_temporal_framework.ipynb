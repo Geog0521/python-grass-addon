{
 "metadata": {
  "name": "",
  "signature": "sha256:998777d80ec7a1c82651e6f7f2847b2c197a4037ff51ffc7336936c65d609322"
 },
 "nbformat": 3,
 "nbformat_minor": 0,
 "worksheets": [
  {
   "cells": [
    {
     "cell_type": "heading",
     "level": 1,
     "metadata": {},
     "source": [
      "GRASS GIS Temporal Framework"
     ]
    },
    {
     "cell_type": "markdown",
     "metadata": {},
     "source": [
      "The GRASS GIS Temporal Framework implements the temporal GIS functionality of GRASS GIS and provides an API to implement spatio-temporal processing modules.\n",
      "\n",
      "The framework introduces space time datasets that represent time series of raster, 3D raster or vector maps.\n",
      "This framework provides the following functionalities:\n",
      "\n",
      "* Assign time stamp to maps and register maps in the temporal database\n",
      "* Modification of time stamps\n",
      "* Creation, renaming and deletion of space time datasets\n",
      "* Registration and un-registration of maps in space time datasets\n",
      "* Query of maps that are registered in space time datasets using SQL where statements\n",
      "* Analysis of the spatio-temporal topology of space time datasets\n",
      "* Sampling of space time datasets\n",
      "* Computation of temporal and spatial relationships between registered maps\n",
      "* Higher level functions that are shared between modules\n",
      "* Most of the functions described above are member functions of dedicated map layer and space time dataset classes."
     ]
    },
    {
     "cell_type": "code",
     "collapsed": false,
     "input": [
      "import grass.temporal as tgis\n",
      "import grass.script as gscript"
     ],
     "language": "python",
     "metadata": {},
     "outputs": []
    },
    {
     "cell_type": "heading",
     "level": 2,
     "metadata": {},
     "source": [
      "Create a new temporal dataset"
     ]
    },
    {
     "cell_type": "markdown",
     "metadata": {},
     "source": [
      "First, we initialize temporal database:"
     ]
    },
    {
     "cell_type": "code",
     "collapsed": false,
     "input": [
      "tgis.init()"
     ],
     "language": "python",
     "metadata": {},
     "outputs": []
    },
    {
     "cell_type": "markdown",
     "metadata": {},
     "source": [
      "Next, we create an empty space-time raster dataset. We specify its name, type (strds, stvds, str3ds), temporal type (absolute, relative), title and description."
     ]
    },
    {
     "cell_type": "code",
     "collapsed": false,
     "input": [
      "dataset_name = 'temperature'\n",
      "dataset = tgis.open_new_stds(name=dataset_name, type='strds', temporaltype='absolute',\n",
      "                             title=\"Temperature in Raleigh\", descr=\"Created for test purposes\",\n",
      "                             semantic='mean', overwrite=True)"
     ],
     "language": "python",
     "metadata": {},
     "outputs": []
    },
    {
     "cell_type": "markdown",
     "metadata": {},
     "source": [
      "Check if the temporal dataset was created:"
     ]
    },
    {
     "cell_type": "code",
     "collapsed": false,
     "input": [
      "# Now print some info about the dataset\n",
      "dataset.print_shell_info()"
     ],
     "language": "python",
     "metadata": {},
     "outputs": []
    },
    {
     "cell_type": "heading",
     "level": 2,
     "metadata": {},
     "source": [
      "Register maps into temporal dataset"
     ]
    },
    {
     "cell_type": "markdown",
     "metadata": {},
     "source": [
      "Create random maps of temperature using min and max values"
     ]
    },
    {
     "cell_type": "code",
     "collapsed": false,
     "input": [
      "# monthly mean Raleigh temperature\n",
      "nc_temp_data = {1: [30, 51], 2: [32, 54], 3: [40, 63], 4:[48, 72],\n",
      "                5:[57, 80], 6: [66, 87], 7: [70, 90], 8:[69, 88],\n",
      "                9:[62, 82], 10:[50, 73], 11:[41, 64], 12:[32, 54]}\n",
      "# list of maps to add into temporal dataset\n",
      "maps = []\n",
      "gscript.run_command('g.region', raster='elevation')\n",
      "for month, values in nc_temp_data.iteritems():\n",
      "    map_name = \"temp_{mon}\".format(mon=month)\n",
      "    gscript.run_command('r.random.surface', output=map_name, seed=values, high=values[1], overwrite=True)\n",
      "    maps.append(map_name)\n",
      "print maps"
     ],
     "language": "python",
     "metadata": {},
     "outputs": []
    },
    {
     "cell_type": "markdown",
     "metadata": {},
     "source": [
      "Now we register the created maps into the temporal dataset:"
     ]
    },
    {
     "cell_type": "code",
     "collapsed": false,
     "input": [
      "tgis.register_maps_in_space_time_dataset(type='raster', name=dataset_name, maps=','.join(maps), start='2014-01-01',\n",
      "                                         increment=\"1 month\", interval=True, update_cmd_list=True)"
     ],
     "language": "python",
     "metadata": {},
     "outputs": []
    },
    {
     "cell_type": "markdown",
     "metadata": {},
     "source": [
      "Now update the information of temporal dataset and print info:"
     ]
    },
    {
     "cell_type": "code",
     "collapsed": false,
     "input": [
      "dataset.update_from_registered_maps()\n",
      "dataset.print_shell_info()"
     ],
     "language": "python",
     "metadata": {},
     "outputs": []
    },
    {
     "cell_type": "heading",
     "level": 2,
     "metadata": {},
     "source": [
      "Query an existing temporal dataset"
     ]
    },
    {
     "cell_type": "markdown",
     "metadata": {},
     "source": [
      "During this session you will learn how to get values for a point from a temporal dataset"
     ]
    },
    {
     "cell_type": "code",
     "collapsed": false,
     "input": [
      "coors = (638000, 222800.0)"
     ],
     "language": "python",
     "metadata": {},
     "outputs": []
    },
    {
     "cell_type": "markdown",
     "metadata": {},
     "source": [
      "As before some controls should be done, and get the temporal dataset object"
     ]
    },
    {
     "cell_type": "code",
     "collapsed": false,
     "input": [
      "# We need a database interface\n",
      "dbif = tgis.SQLDatabaseInterfaceConnection()\n",
      "dbif.connect()\n",
      "strds = tgis.open_old_stds(dataset_name, \"strds\", dbif)"
     ],
     "language": "python",
     "metadata": {},
     "outputs": []
    },
    {
     "cell_type": "markdown",
     "metadata": {},
     "source": [
      "Now it is possible to obtain all the registered maps"
     ]
    },
    {
     "cell_type": "code",
     "collapsed": false,
     "input": [
      "rows = strds.get_registered_maps(columns=\"name,mapset,start_time,end_time\",\n",
      "                                 where=None, order=\"start_time\", dbif=dbif)"
     ],
     "language": "python",
     "metadata": {},
     "outputs": []
    },
    {
     "cell_type": "markdown",
     "metadata": {},
     "source": [
      "Get useful info (as name, starting time) about registered maps and query the data using the GRASS GIS command `r.what`"
     ]
    },
    {
     "cell_type": "code",
     "collapsed": false,
     "input": [
      "from collections import OrderedDict\n",
      "infos = OrderedDict()\n",
      "for row in rows:\n",
      "    name = row[\"name\"] + \"@\" + row[\"mapset\"]\n",
      "    values = gscript.read_command('r.what', map=name, coordinates=coors).strip().split('|')\n",
      "    infos[name] = {'date': row[\"start_time\"], 'value': values[3]}\n",
      "print infos"
     ],
     "language": "python",
     "metadata": {},
     "outputs": []
    },
    {
     "cell_type": "heading",
     "level": 3,
     "metadata": {},
     "source": [
      "Write CSV file"
     ]
    },
    {
     "cell_type": "markdown",
     "metadata": {},
     "source": [
      "To write a CSV file in Python, the CSV module should be used. So import it and tempfile to create a file in the temporal directory."
     ]
    },
    {
     "cell_type": "code",
     "collapsed": false,
     "input": [
      "import csv\n",
      "import tempfile\n",
      "fil = tempfile.NamedTemporaryFile(delete=False)\n",
      "print fil.name"
     ],
     "language": "python",
     "metadata": {},
     "outputs": []
    },
    {
     "cell_type": "markdown",
     "metadata": {},
     "source": [
      "Now for each record, coming from the temporal dataset, it writes a record in the CSV file:"
     ]
    },
    {
     "cell_type": "code",
     "collapsed": false,
     "input": [
      "with open(fil.name, 'wb') as csvfile:\n",
      "    spamwriter = csv.writer(csvfile, delimiter=';',\n",
      "                            quoting=csv.QUOTE_MINIMAL)\n",
      "    spamwriter.writerow(['Map_name', 'Date', 'Temp'])\n",
      "    \n",
      "    for mapp, vals in infos.iteritems():\n",
      "        spamwriter.writerow([mapp, vals['date'].strftime('%Y-%m-%d'), vals['value']])\n",
      "fil.close()"
     ],
     "language": "python",
     "metadata": {},
     "outputs": []
    },
    {
     "cell_type": "markdown",
     "metadata": {},
     "source": [
      "Print the CSV file using the `cat` Bash command"
     ]
    },
    {
     "cell_type": "code",
     "collapsed": false,
     "input": [
      "!cat {fil.name}"
     ],
     "language": "python",
     "metadata": {},
     "outputs": []
    },
    {
     "cell_type": "heading",
     "level": 3,
     "metadata": {},
     "source": [
      "Plot data using Matplotlib"
     ]
    },
    {
     "cell_type": "markdown",
     "metadata": {},
     "source": [
      "To print the data using `Matplotlib` some libraries have to be imported"
     ]
    },
    {
     "cell_type": "code",
     "collapsed": false,
     "input": [
      "%matplotlib inline\n",
      "import matplotlib.pyplot as plt\n",
      "import matplotlib.dates as mdates"
     ],
     "language": "python",
     "metadata": {},
     "outputs": []
    },
    {
     "cell_type": "markdown",
     "metadata": {},
     "source": [
      "Create the list of values for x and y axis"
     ]
    },
    {
     "cell_type": "code",
     "collapsed": false,
     "input": [
      "x = []\n",
      "y = []\n",
      "for mapp, vals in infos.iteritems():\n",
      "    x.append(vals['date'])\n",
      "    y.append(vals['value'])\n",
      "print x\n",
      "print y"
     ],
     "language": "python",
     "metadata": {},
     "outputs": []
    },
    {
     "cell_type": "markdown",
     "metadata": {},
     "source": [
      "Plot the temperatures:"
     ]
    },
    {
     "cell_type": "code",
     "collapsed": false,
     "input": [
      "# create the plot\n",
      "fig, ax = plt.subplots()\n",
      "# create the plot line\n",
      "ax.plot(x,y, label='2014 monthly temperature', color='red')\n",
      "# set the format of X axis label\n",
      "ax.xaxis.set_major_formatter(mdates.DateFormatter('%Y-%m'))\n",
      "# set the title of graph\n",
      "plt.title('Monthly temperature');\n",
      "# add legend and set it lower-center position\n",
      "ax.legend(loc='lower center')\n",
      "# fix the position/rotation of X lavel\n",
      "fig.autofmt_xdate()\n",
      "# set the label for X and Y axis\n",
      "ax.set_xlabel('Month')\n",
      "ax.set_ylabel('Fahrenheit temp')\n",
      "# show the graph\n",
      "plt.show()"
     ],
     "language": "python",
     "metadata": {},
     "outputs": []
    },
    {
     "cell_type": "heading",
     "level": 2,
     "metadata": {},
     "source": [
      "Some other tips"
     ]
    },
    {
     "cell_type": "heading",
     "level": 3,
     "metadata": {},
     "source": [
      "Unregister maps"
     ]
    },
    {
     "cell_type": "markdown",
     "metadata": {},
     "source": [
      "To remove maps from a temporal dataset, first a map object should be created and after using the dataset object with the `unregister_map` function remove the map"
     ]
    },
    {
     "cell_type": "code",
     "collapsed": false,
     "input": [
      "remove_map = tgis.RasterDataset('temp_12@{mapset}'.format(mapset=gscript.gisenv()['MAPSET']))\n",
      "dataset.unregister_map(remove_map)\n",
      "dataset.update_from_registered_maps()"
     ],
     "language": "python",
     "metadata": {},
     "outputs": []
    },
    {
     "cell_type": "heading",
     "level": 3,
     "metadata": {},
     "source": [
      "Delete temporal dataset"
     ]
    },
    {
     "cell_type": "markdown",
     "metadata": {},
     "source": [
      "Deletion of a temporal dataset can be done directly from the same object using the `delete` function"
     ]
    },
    {
     "cell_type": "code",
     "collapsed": false,
     "input": [
      "dataset.delete(dbif=dbif)"
     ],
     "language": "python",
     "metadata": {},
     "outputs": []
    }
   ],
   "metadata": {}
  }
 ]
}
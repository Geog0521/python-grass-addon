{
 "metadata": {
  "name": "",
  "signature": "sha256:e235b17a01f0043b1e1a6cdac49540c50af4e81c126d8f96b7206079c07c1d29"
 },
 "nbformat": 3,
 "nbformat_minor": 0,
 "worksheets": [
  {
   "cells": [
    {
     "cell_type": "heading",
     "level": 1,
     "metadata": {},
     "source": [
      "Introduction to the GRASS GIS 7 Python Scripting Library"
     ]
    },
    {
     "cell_type": "markdown",
     "metadata": {},
     "source": [
      "The GRASS GIS 7 Python Scripting Library provides functions to call GRASS modules within scripts as subprocesses.\n",
      "The most often used functions include:\n",
      "* __`run_command`__: most often used with modules which output raster/vector data where text output is not expected\n",
      "* __`read_command`__: used when we are interested in text output\n",
      "* __`parse_command`__: used with modules producing text output as key=value pair\n",
      "* __`write_command`__: for modules expecting text input from either standard input or file\n",
      "\n",
      "Besides, this library provides several wrapper functions for often called modules."
     ]
    },
    {
     "cell_type": "heading",
     "level": 2,
     "metadata": {},
     "source": [
      "Calling GRASS GIS modules"
     ]
    },
    {
     "cell_type": "markdown",
     "metadata": {},
     "source": [
      "We start by importing GRASS GIS Python Scripting Library:"
     ]
    },
    {
     "cell_type": "code",
     "collapsed": false,
     "input": [
      "import grass.script as gscript"
     ],
     "language": "python",
     "metadata": {},
     "outputs": []
    },
    {
     "cell_type": "markdown",
     "metadata": {},
     "source": [
      "To simplify the re-running of examples, we set this environmental variable,\n",
      "which allows direct overwriting of results from previous runs, bypassing the overwrite checks."
     ]
    },
    {
     "cell_type": "code",
     "collapsed": false,
     "input": [
      "import os\n",
      "os.environ['GRASS_OVERWRITE'] = '1'"
     ],
     "language": "python",
     "metadata": {},
     "outputs": []
    },
    {
     "cell_type": "markdown",
     "metadata": {},
     "source": [
      "Before running any GRASS raster modules, you need to set the computational region using [g.region](http://grass.osgeo.org/grass70/manuals/g.region.html). In this example, we set the computational extent and resolution to the raster layer `elevation`."
     ]
    },
    {
     "cell_type": "code",
     "collapsed": false,
     "input": [
      "gscript.run_command('g.region', raster='elevation')"
     ],
     "language": "python",
     "metadata": {},
     "outputs": []
    },
    {
     "cell_type": "markdown",
     "metadata": {},
     "source": [
      "The `run_command()` function is the most commonly used one. Here, we apply the focal operation *average* ([r.neighbors](http://grass.osgeo.org/grass70/manuals/r.neighbors.html)) to smooth the elevation raster layer. Note that the syntax is similar to bash syntax, just the flags are specified in a parameter."
     ]
    },
    {
     "cell_type": "code",
     "collapsed": false,
     "input": [
      "gscript.run_command('r.neighbors', input='elevation', output='elev_smoothed', method='average', flags='c')"
     ],
     "language": "python",
     "metadata": {},
     "outputs": []
    },
    {
     "cell_type": "markdown",
     "metadata": {},
     "source": [
      "Textual output from modules can be captured using the `read_command()` function."
     ]
    },
    {
     "cell_type": "code",
     "collapsed": false,
     "input": [
      "print(gscript.read_command('g.region', flags='p'))"
     ],
     "language": "python",
     "metadata": {},
     "outputs": []
    },
    {
     "cell_type": "code",
     "collapsed": false,
     "input": [
      "print(gscript.read_command('r.univar', map='elev_smoothed', flags='g'))"
     ],
     "language": "python",
     "metadata": {},
     "outputs": []
    },
    {
     "cell_type": "markdown",
     "metadata": {},
     "source": [
      "Certain modules can produce output in key-value format which is enabled by the __`g`__ flag. The `parse_command()` function automatically parses this output and returns a dictionary. In this example, we call [g.proj](http://grass.osgeo.org/grass70/manuals/g.proj.html) to display the projection parameters of the actual location."
     ]
    },
    {
     "cell_type": "code",
     "collapsed": false,
     "input": [
      "gscript.parse_command('g.proj', flags='g')"
     ],
     "language": "python",
     "metadata": {},
     "outputs": []
    },
    {
     "cell_type": "markdown",
     "metadata": {},
     "source": [
      "For comparison, below is the same example, but using the `read_command()` function."
     ]
    },
    {
     "cell_type": "code",
     "collapsed": false,
     "input": [
      "print(gscript.read_command('g.proj', flags='g'))"
     ],
     "language": "python",
     "metadata": {},
     "outputs": []
    },
    {
     "cell_type": "markdown",
     "metadata": {},
     "source": [
      "Certain modules require the text input be in a file or provided as standard input. Using the `write_command()` function we can conveniently pass the string to the module. Here, we are creating a new vector with one point with [v.in.ascii](http://grass.osgeo.org/grass70/manuals/v.in.ascii.html).\n",
      "Note that __*stdin*__ parameter is not used as a module parameter, but its content is passed as standard input to the subprocess.\n"
     ]
    },
    {
     "cell_type": "code",
     "collapsed": false,
     "input": [
      "gscript.write_command('v.in.ascii', input='-', stdin='%s|%s' % (635818.8, 221342.4), output='view_point')"
     ],
     "language": "python",
     "metadata": {},
     "outputs": []
    },
    {
     "cell_type": "heading",
     "level": 2,
     "metadata": {},
     "source": [
      "Convenient wrapper functions"
     ]
    },
    {
     "cell_type": "markdown",
     "metadata": {},
     "source": [
      "Some modules have wrapper functions to simplify frequent tasks."
     ]
    },
    {
     "cell_type": "markdown",
     "metadata": {},
     "source": [
      "We can obtain the information about the vector layer which we just created with the [v.info](http://grass.osgeo.org/grass70/manuals/v.info.html) wrapper."
     ]
    },
    {
     "cell_type": "code",
     "collapsed": false,
     "input": [
      "gscript.vector_info('view_point')"
     ],
     "language": "python",
     "metadata": {},
     "outputs": []
    },
    {
     "cell_type": "markdown",
     "metadata": {},
     "source": [
      "It is also possible to retrieve the raster layer history ([r.support](http://grass.osgeo.org/grass70/manuals/r.support.html)) and layer information ([r.info](http://grass.osgeo.org/grass70/manuals/r.info.html)) or to query ([r.what](http://grass.osgeo.org/grass70/manuals/r.what.html)) raster layer pixel values."
     ]
    },
    {
     "cell_type": "code",
     "collapsed": false,
     "input": [
      "gscript.raster_what('elevation', [[635818.8, 221342.4], [635710, 221330]])"
     ],
     "language": "python",
     "metadata": {},
     "outputs": []
    },
    {
     "cell_type": "markdown",
     "metadata": {},
     "source": [
      "As another example, the [r.mapcalc](http://grass.osgeo.org/grass70/manuals/r.mapcalc.html) wrapper for raster algebra allows using a long expressions."
     ]
    },
    {
     "cell_type": "code",
     "collapsed": false,
     "input": [
      "gscript.mapcalc(\"ndvi = float(lsat7_2002_40 - lsat7_2002_30) / (lsat7_2002_40 + lsat7_2002_30)\")"
     ],
     "language": "python",
     "metadata": {},
     "outputs": []
    },
    {
     "cell_type": "markdown",
     "metadata": {},
     "source": [
      "The [g.region](http://grass.osgeo.org/grass70/manuals/g.region.html) wrapper is a convenient way to retrieve the current region settings (i.e., computational region). It returns a dictionary with values converted to appropriate types (`float`s and `int`s)."
     ]
    },
    {
     "cell_type": "code",
     "collapsed": false,
     "input": [
      "region = gscript.region()\n",
      "print region\n",
      "# cell area in map units (in projected Locations)\n",
      "region['nsres'] * region['ewres']"
     ],
     "language": "python",
     "metadata": {},
     "outputs": []
    },
    {
     "cell_type": "markdown",
     "metadata": {},
     "source": [
      "We can list data stored in a GRASS GIS location with [g.list](http://grass.osgeo.org/grass70/manuals/g.list.html) wrappers. With this function, the map layers are grouped by mapsets (in this example, raster layers):"
     ]
    },
    {
     "cell_type": "code",
     "collapsed": false,
     "input": [
      "gscript.list_grouped(['raster'])"
     ],
     "language": "python",
     "metadata": {},
     "outputs": []
    },
    {
     "cell_type": "markdown",
     "metadata": {},
     "source": [
      "Here is an example of a different [g.list](http://grass.osgeo.org/grass70/manuals/g.list.html) wrapper which structures the output as list of pairs _(name, mapset)_.\n",
      "We obtain current mapset with [g.gisenv](http://grass.osgeo.org/grass70/manuals/g.gisenv.html) wrapper."
     ]
    },
    {
     "cell_type": "code",
     "collapsed": false,
     "input": [
      "current_mapset = gscript.gisenv()['MAPSET']\n",
      "gscript.list_pairs('raster', mapset=current_mapset)"
     ],
     "language": "python",
     "metadata": {},
     "outputs": []
    },
    {
     "cell_type": "heading",
     "level": 2,
     "metadata": {},
     "source": [
      "Exercise"
     ]
    },
    {
     "cell_type": "markdown",
     "metadata": {},
     "source": [
      "Derive a new slope layer from the raster layer `elevation` using [r.slope.aspect](http://grass.osgeo.org/grass70/manuals/r.slope.aspect.html).\n",
      "Then calculate and report the slope average and median values (hint: see [r.univar](http://grass.osgeo.org/grass70/manuals/r.univar.html))."
     ]
    },
    {
     "cell_type": "code",
     "collapsed": false,
     "input": [],
     "language": "python",
     "metadata": {},
     "outputs": []
    },
    {
     "cell_type": "markdown",
     "metadata": {},
     "source": [
      "Export all raster layers from mapset PERMANENT with a name prefix \"el_\" as GeoTiff (see [r.out.gdal](http://grass.osgeo.org/grass70/manuals/r.out.gdal.html)). Don't forget to set the current region for each map in order to match the individual exported raster layer extents and resolutions since they may differ from each other."
     ]
    },
    {
     "cell_type": "code",
     "collapsed": false,
     "input": [],
     "language": "python",
     "metadata": {},
     "outputs": []
    }
   ],
   "metadata": {}
  }
 ]
}
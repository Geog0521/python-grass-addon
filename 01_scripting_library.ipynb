{
 "metadata": {
  "name": "",
  "signature": "sha256:4a164e587abea8cfd94c647e21ceb6d2be1e618f35d1061166653f30469a9c0d"
 },
 "nbformat": 3,
 "nbformat_minor": 0,
 "worksheets": [
  {
   "cells": [
    {
     "cell_type": "heading",
     "level": 1,
     "metadata": {},
     "source": [
      "Introduction to GRASS Python Scripting Library"
     ]
    },
    {
     "cell_type": "markdown",
     "metadata": {},
     "source": [
      "GRASS Python Scripting Library provides functions to call GRASS modules within scripts as subprocesses.\n",
      "The most often used functions include:\n",
      "* __`run_command`__: most often used with modules which output raster/vector data, when we don't expect text output\n",
      "* __`read_command`__: used when we are interested in text output\n",
      "* __`parse_command`__: used with modules producing text output as key=value pair\n",
      "* __`write_command`__: for modules expecting text input from either standard input or file\n",
      "\n",
      "Besides, this library provides several wrapper functions for often called modules."
     ]
    },
    {
     "cell_type": "heading",
     "level": 2,
     "metadata": {},
     "source": [
      "Calling GRASS modules"
     ]
    },
    {
     "cell_type": "markdown",
     "metadata": {},
     "source": [
      "We start by importing GRASS Python Scripting Library:"
     ]
    },
    {
     "cell_type": "code",
     "collapsed": false,
     "input": [
      "import grass.script as gscript"
     ],
     "language": "python",
     "metadata": {},
     "outputs": []
    },
    {
     "cell_type": "markdown",
     "metadata": {},
     "source": [
      "To simplify rerunning examples, we set this environmental variable,\n",
      "which allows overwriting results from previous runs."
     ]
    },
    {
     "cell_type": "code",
     "collapsed": false,
     "input": [
      "import os\n",
      "os.environ['GRASS_OVERWRITE'] = '1'"
     ],
     "language": "python",
     "metadata": {},
     "outputs": []
    },
    {
     "cell_type": "markdown",
     "metadata": {},
     "source": [
      "Before running any GRASS raster modules, one must set the computational region using [g.region](http://grass.osgeo.org/grass70/manuals/g.region.html). In this example, we set the computational extent and resolution to raster `elevation`."
     ]
    },
    {
     "cell_type": "code",
     "collapsed": false,
     "input": [
      "gscript.run_command('g.region', raster='elevation')"
     ],
     "language": "python",
     "metadata": {},
     "outputs": []
    },
    {
     "cell_type": "markdown",
     "metadata": {},
     "source": [
      "The `run_command()` function is for the most commonly used one. Here, we apply focal operation average ([r.neighbors](http://grass.osgeo.org/grass70/manuals/r.neighbors.html)) to smooth the elevation raster. Note that the syntax is similar to bash syntax, just the flags are specified in a parameter."
     ]
    },
    {
     "cell_type": "code",
     "collapsed": false,
     "input": [
      "gscript.run_command('r.neighbors', input='elevation', output='elev_smoothed', method='average', flags='c')"
     ],
     "language": "python",
     "metadata": {},
     "outputs": []
    },
    {
     "cell_type": "markdown",
     "metadata": {},
     "source": [
      "Textual output from modules can be captured using `read_command()` function."
     ]
    },
    {
     "cell_type": "code",
     "collapsed": false,
     "input": [
      "print(gscript.read_command('r.univar', map='elev_smoothed', flags='g'))"
     ],
     "language": "python",
     "metadata": {},
     "outputs": []
    },
    {
     "cell_type": "markdown",
     "metadata": {},
     "source": [
      "Certain modules can produce output in key-value format which is enabled by __`g`__ flag. The `parse_command()` function automatically parses this output and returns a dictionary. In this example we call [g.proj](http://grass.osgeo.org/grass70/manuals/g.proj.html) to display projection parameters."
     ]
    },
    {
     "cell_type": "code",
     "collapsed": false,
     "input": [
      "gscript.parse_command('g.proj', flags='g')"
     ],
     "language": "python",
     "metadata": {},
     "outputs": []
    },
    {
     "cell_type": "markdown",
     "metadata": {},
     "source": [
      "For comparison, below is the same example, but using `read_command`:"
     ]
    },
    {
     "cell_type": "code",
     "collapsed": false,
     "input": [
      "print(gscript.read_command('g.proj', flags='g'))"
     ],
     "language": "python",
     "metadata": {},
     "outputs": []
    },
    {
     "cell_type": "markdown",
     "metadata": {},
     "source": [
      "Certain modules require text input in a file or as standard input. Using `write_command` we can conveniently pass the string to the module. Here, we are creating a new vector with one point with [v.in.ascii](http://grass.osgeo.org/grass70/manuals/v.in.ascii.html).\n",
      "Note that __*stdin*__ parameter is not used as a module parameter, but its content is passed as standard input to the subprocess.\n"
     ]
    },
    {
     "cell_type": "code",
     "collapsed": false,
     "input": [
      "gscript.write_command('v.in.ascii', input='-', stdin='%s|%s' % (635818.8, 221342.4), output='view_point')"
     ],
     "language": "python",
     "metadata": {},
     "outputs": []
    },
    {
     "cell_type": "heading",
     "level": 2,
     "metadata": {},
     "source": [
      "Convenient wrapper functions"
     ]
    },
    {
     "cell_type": "markdown",
     "metadata": {},
     "source": [
      "Some modules have wrapper functions to simplify frequent tasks."
     ]
    },
    {
     "cell_type": "markdown",
     "metadata": {},
     "source": [
      "We can obtain the information about the vector just created with [v.info](http://grass.osgeo.org/grass70/manuals/v.info.html) wrapper"
     ]
    },
    {
     "cell_type": "code",
     "collapsed": false,
     "input": [
      "gscript.vector_info('view_point')"
     ],
     "language": "python",
     "metadata": {},
     "outputs": []
    },
    {
     "cell_type": "markdown",
     "metadata": {},
     "source": [
      "It is also possible to get the history ([r.support](http://grass.osgeo.org/grass70/manuals/r.support.html)), information ([r.info](http://grass.osgeo.org/grass70/manuals/r.info.html)) or query ([r.what](http://grass.osgeo.org/grass70/manuals/r.what.html)) about a raster."
     ]
    },
    {
     "cell_type": "code",
     "collapsed": false,
     "input": [
      "gscript.raster_what('elevation', [[635818.8, 221342.4], [635710, 221330]])"
     ],
     "language": "python",
     "metadata": {},
     "outputs": []
    },
    {
     "cell_type": "markdown",
     "metadata": {},
     "source": [
      "Another example, [r.mapcalc](http://grass.osgeo.org/grass70/manuals/r.mapcalc.html) wrapper for raster algebra allows using a very long expression."
     ]
    },
    {
     "cell_type": "code",
     "collapsed": false,
     "input": [
      "gscript.mapcalc(\"ndvi = float(lsat7_2002_40 - lsat7_2002_30) / (lsat7_2002_40 + lsat7_2002_30)\")"
     ],
     "language": "python",
     "metadata": {},
     "outputs": []
    },
    {
     "cell_type": "markdown",
     "metadata": {},
     "source": [
      "[g.region](http://grass.osgeo.org/grass70/manuals/g.region.html) wrapper is a convenient way to get current region settings. It returns dictionary with values converted to appropriate type (`float`s and `int`s)."
     ]
    },
    {
     "cell_type": "code",
     "collapsed": false,
     "input": [
      "region = gscript.region()\n",
      "print region\n",
      "# cell area in map units (in projected Locations)\n",
      "region['nsres'] * region['ewres']"
     ],
     "language": "python",
     "metadata": {},
     "outputs": []
    },
    {
     "cell_type": "markdown",
     "metadata": {},
     "source": [
      "We can list data in GRASS database with [g.list](http://grass.osgeo.org/grass70/manuals/g.list.html) wrappers. With this function,\n",
      "rasters are grouped by mapsets:"
     ]
    },
    {
     "cell_type": "code",
     "collapsed": false,
     "input": [
      "gscript.list_grouped(['raster'])"
     ],
     "language": "python",
     "metadata": {},
     "outputs": []
    },
    {
     "cell_type": "markdown",
     "metadata": {},
     "source": [
      "Here is an example of a different [g.list](http://grass.osgeo.org/grass70/manuals/g.list.html) wrapper which structures output as list of pairs _(name, mapset)_.\n",
      "We obtain current mapset with [g.gisenv](http://grass.osgeo.org/grass70/manuals/g.gisenv.html) wrapper."
     ]
    },
    {
     "cell_type": "code",
     "collapsed": false,
     "input": [
      "current_mapset = gscript.gisenv()['MAPSET']\n",
      "gscript.list_pairs('raster', mapset=current_mapset)"
     ],
     "language": "python",
     "metadata": {},
     "outputs": []
    },
    {
     "cell_type": "heading",
     "level": 2,
     "metadata": {},
     "source": [
      "Exercise"
     ]
    },
    {
     "cell_type": "markdown",
     "metadata": {},
     "source": [
      "Derive slope from raster `elevation` using [r.slope.aspect](http://grass.osgeo.org/grass70/manuals/r.slope.aspect.html).\n",
      "Then report slope average and median value, see [r.univar](http://grass.osgeo.org/grass70/manuals/r.univar.html)."
     ]
    },
    {
     "cell_type": "code",
     "collapsed": false,
     "input": [],
     "language": "python",
     "metadata": {},
     "outputs": []
    },
    {
     "cell_type": "markdown",
     "metadata": {},
     "source": [
      "Export all rasters from mapset PERMANENT with name starting with \"el_\" as GeoTiff (see [r.out.gdal](http://grass.osgeo.org/grass70/manuals/r.out.gdal.html)). Don't forget to set the region to match the individual exported rasters, they can have different extent."
     ]
    },
    {
     "cell_type": "code",
     "collapsed": false,
     "input": [],
     "language": "python",
     "metadata": {},
     "outputs": []
    }
   ],
   "metadata": {}
  }
 ]
}
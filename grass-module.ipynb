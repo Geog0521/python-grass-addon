{
 "metadata": {
  "name": "",
  "signature": "sha256:57edc8c60a0a70b6d86cb5a4532daed79dd046f9fcee60cc1b02bd89d904b650"
 },
 "nbformat": 3,
 "nbformat_minor": 0,
 "worksheets": [
  {
   "cells": [
    {
     "cell_type": "heading",
     "level": 1,
     "metadata": {},
     "source": [
      "Changing a script into a GRASS module"
     ]
    },
    {
     "cell_type": "markdown",
     "metadata": {},
     "source": [
      "First, a Python script must contain shebang which uses `/usr/bin/env` to get the right Python interpreter on unix systems. Second, the code should be contained in functions rather than on the top level."
     ]
    },
    {
     "cell_type": "code",
     "collapsed": false,
     "input": [
      "#!/usr/bin/env python\n",
      "\n",
      "def main():\n",
      "    pass\n",
      "\n",
      "if __name__ == '__main__':\n",
      "    main()\n"
     ],
     "language": "python",
     "metadata": {},
     "outputs": [],
     "prompt_number": 11
    },
    {
     "cell_type": "heading",
     "level": 2,
     "metadata": {},
     "source": [
      "GRASS parser"
     ]
    },
    {
     "cell_type": "markdown",
     "metadata": {},
     "source": [
      "Every GRASS module must use GRASS parser mechanism. In Python, this means calling `parser()` function from `grass.script` package. This function parses special comments at the begining of the Python file, processes parameters provided in command line and reacts accordingly. The special comments start with `#%` and can be refered to as *interface definition comment*."
     ]
    },
    {
     "cell_type": "heading",
     "level": 3,
     "metadata": {},
     "source": [
      "Minimal template"
     ]
    },
    {
     "cell_type": "markdown",
     "metadata": {},
     "source": [
      "The interface definition commentshould contain at least description of the module and two keywords as shown below. These values are definied in section `module` which contains `description` and `keyword` keys."
     ]
    },
    {
     "cell_type": "code",
     "collapsed": false,
     "input": [
      "%%file r.viewshed.points.py\n",
      "#!/usr/bin/env python\n",
      "\n",
      "#%module\n",
      "#% description: Compute and analyze viewsheds\n",
      "#% keyword: raster\n",
      "#% keyword: viewshed\n",
      "#%end\n",
      "\n",
      "import grass.script as gscript\n",
      "\n",
      "def main():\n",
      "    gscript.parser()\n",
      "\n",
      "if __name__ == '__main__':\n",
      "    main()\n",
      "\n"
     ],
     "language": "python",
     "metadata": {},
     "outputs": [
      {
       "output_type": "stream",
       "stream": "stdout",
       "text": [
        "Overwriting r.viewshed.points.py\n"
       ]
      }
     ],
     "prompt_number": 12
    },
    {
     "cell_type": "markdown",
     "metadata": {},
     "source": [
      "Note that GRASS parser requires a new line character at the end of file. In this case IPython Notebook requires to include two empty lines at the end of file."
     ]
    },
    {
     "cell_type": "markdown",
     "metadata": {},
     "source": [
      "To run the script, we need to make it an executable."
     ]
    },
    {
     "cell_type": "code",
     "collapsed": false,
     "input": [
      "!chmod u+x r.viewshed.points.py"
     ],
     "language": "python",
     "metadata": {},
     "outputs": [],
     "prompt_number": 13
    },
    {
     "cell_type": "markdown",
     "metadata": {},
     "source": [
      "Now we can execute the script as a GRASS module with `--help` to get the command line help output."
     ]
    },
    {
     "cell_type": "code",
     "collapsed": false,
     "input": [
      "!./r.viewshed.points.py --help"
     ],
     "language": "python",
     "metadata": {},
     "outputs": [
      {
       "output_type": "stream",
       "stream": "stdout",
       "text": [
        "\r\n",
        "Description:\r\n",
        " Compute and analyze viewsheds\r\n",
        "\r\n",
        "Keywords:\r\n",
        " raster, viewshed\r\n",
        "\r\n",
        "Usage:\r\n",
        " r.viewshed.points.py [--help] [--verbose] [--quiet] [--ui]\r\n",
        "\r\n",
        "Flags:\r\n",
        " --h   Print usage summary\r\n",
        " --v   Verbose module output\r\n",
        " --q   Quiet module output\r\n",
        " --ui  Force launching GUI dialog\r\n"
       ]
      }
     ],
     "prompt_number": 14
    },
    {
     "cell_type": "heading",
     "level": 3,
     "metadata": {},
     "source": [
      "Adding parameters as standard options"
     ]
    },
    {
     "cell_type": "markdown",
     "metadata": {},
     "source": [
      "Now we will add parameters to our module. We want to pass elevation raster map and a vector map with points. In the interface definition comment we will add a section `option` for each map and we will use a standard (or predefined) options. For elevation raster we will use `G_OPT_R_INPUT` and for points vectors `G_OPT_V_INPUT`. Both these standard options are named `input` by default, so we have to give them unique names. We'll use `elevation` for the raster and `points` for the vector. The option's name is defined using a key named `key`."
     ]
    },
    {
     "cell_type": "code",
     "collapsed": false,
     "input": [
      "%%file r.viewshed.points.py\n",
      "#!/usr/bin/env python\n",
      "\n",
      "#%module\n",
      "#% description: Compute and analyze viewsheds\n",
      "#% keyword: raster\n",
      "#% keyword: viewshed\n",
      "#%end\n",
      "#%option G_OPT_R_INPUT\n",
      "#% key: elevation\n",
      "#%end\n",
      "#%option G_OPT_V_INPUT\n",
      "#% key: points\n",
      "#%end\n",
      "\n",
      "import grass.script as gscript\n",
      "\n",
      "def main():\n",
      "    options, flags = gscript.parser()\n",
      "    elevation = options['elevation']\n",
      "    points = options['points']\n",
      "    print(elevation, points)\n",
      "\n",
      "if __name__ == '__main__':\n",
      "    main()\n",
      "\n"
     ],
     "language": "python",
     "metadata": {},
     "outputs": [
      {
       "output_type": "stream",
       "stream": "stdout",
       "text": [
        "Overwriting r.viewshed.points.py\n"
       ]
      }
     ],
     "prompt_number": 15
    },
    {
     "cell_type": "code",
     "collapsed": false,
     "input": [
      "!./r.viewshed.points.py --help"
     ],
     "language": "python",
     "metadata": {},
     "outputs": [
      {
       "output_type": "stream",
       "stream": "stdout",
       "text": [
        "\r\n",
        "Description:\r\n",
        " Compute and analyze viewsheds\r\n",
        "\r\n",
        "Keywords:\r\n",
        " raster, viewshed\r\n",
        "\r\n",
        "Usage:\r\n",
        " r.viewshed.points.py elevation=name points=name [--help] [--verbose]\r\n",
        "   [--quiet] [--ui]\r\n",
        "\r\n",
        "Flags:\r\n",
        " --h   Print usage summary\r\n",
        " --v   Verbose module output\r\n",
        " --q   Quiet module output\r\n",
        " --ui  Force launching GUI dialog\r\n",
        "\r\n",
        "Parameters:\r\n",
        "  elevation   Name of input raster map\r\n",
        "     points   Name of input vector map\r\n",
        "               Or data source for direct OGR access\r\n"
       ]
      }
     ],
     "prompt_number": 16
    },
    {
     "cell_type": "code",
     "collapsed": false,
     "input": [
      "!./r.viewshed.points.py elevation=elevation points=bridges"
     ],
     "language": "python",
     "metadata": {},
     "outputs": [
      {
       "output_type": "stream",
       "stream": "stdout",
       "text": [
        "('elevation', 'bridges')\r\n"
       ]
      }
     ],
     "prompt_number": 17
    },
    {
     "cell_type": "heading",
     "level": 3,
     "metadata": {},
     "source": [
      "Adding parameters as custom options"
     ]
    },
    {
     "cell_type": "markdown",
     "metadata": {},
     "source": [
      "When using standard options we can modify `key` or other things to meet our needs. However, for general cases, we define options completely from scratch. Here we introduce a named `max_distance` which has `type` set to `double`. We use `description` to document the meaning of the option. In case we would need a longer description we shuld use `label` key for short and concise  description and `description` key for more lenghtly and wordy description. In addition to the description we add also `key_desc` which is a short hint for a proper syntax.\n",
      "\n",
      "Our `max_distance` option has default value is `-1` which means *infnity* in this case. The user is not required to provide this option, so we set `required` to `no`. Also, there can be only one value provided for this option, so we set `multiple` to `no` as well."
     ]
    },
    {
     "cell_type": "code",
     "collapsed": false,
     "input": [
      "%%file r.viewshed.points.py\n",
      "#!/usr/bin/env python\n",
      "\n",
      "#%module\n",
      "#% description: Compute and analyze viewsheds\n",
      "#% keyword: raster\n",
      "#% keyword: viewshed\n",
      "#%end\n",
      "#%option G_OPT_R_INPUT\n",
      "#% key: elevation\n",
      "#%end\n",
      "#%option G_OPT_V_INPUT\n",
      "#% key: points\n",
      "#%end\n",
      "#%option\n",
      "#% key: max_distance\n",
      "#% key_desc: value\n",
      "#% type: double\n",
      "#% description: Maximum visibility radius. By default infinity (-1)\n",
      "#% answer: -1\n",
      "#% multiple: no\n",
      "#% required: no\n",
      "#%end\n",
      "\n",
      "import grass.script as gscript\n",
      "\n",
      "def main():\n",
      "    options, flags = gscript.parser()\n",
      "    elevation = options['elevation']\n",
      "    points = options['points']\n",
      "    max_distance = float(options['max_distance'])\n",
      "    print(elevation, points, max_distance)\n",
      "\n",
      "if __name__ == '__main__':\n",
      "    main()\n",
      "\n"
     ],
     "language": "python",
     "metadata": {},
     "outputs": [
      {
       "output_type": "stream",
       "stream": "stdout",
       "text": [
        "Overwriting r.viewshed.points.py\n"
       ]
      }
     ],
     "prompt_number": 18
    },
    {
     "cell_type": "code",
     "collapsed": false,
     "input": [
      "!./r.viewshed.points.py elevation=elevation points=bridges max_distance=50"
     ],
     "language": "python",
     "metadata": {},
     "outputs": [
      {
       "output_type": "stream",
       "stream": "stdout",
       "text": [
        "('elevation', 'bridges', 50.0)\r\n"
       ]
      }
     ],
     "prompt_number": 19
    },
    {
     "cell_type": "heading",
     "level": 2,
     "metadata": {},
     "source": [
      "Compilation and formal requirements"
     ]
    },
    {
     "cell_type": "markdown",
     "metadata": {},
     "source": [
      "As mentioned before a GRASS module must use GRASS parser to handle its command line parameters.\n",
      "A GRASS module should read and write geospatial data as GRASS raster or vector maps.\n",
      "A module should not overwrite existing data unless specified by the user using `--overwrite` flag.\n",
      "For raster and vector maps and files, GRASS parser automatically checks their existence\n",
      "and ends the execution with a proper error message.\n",
      "\n",
      "Furthermore, a file with documentation which uses HTML syntax must be provided.\n",
      "This documentation is distributed with the addon and is also available online.\n",
      "A template with the main sections follows."
     ]
    },
    {
     "cell_type": "code",
     "collapsed": false,
     "input": [
      "%%file r.viewshed.points.html\n",
      "<h2>DESCRIPTION</h2>\n",
      "\n",
      "A long descripton with details about the method, implementation, usage or whatever is appropriate.\n",
      "\n",
      "<h2>EXAMPLES</h2>\n",
      "\n",
      "Examples of how the module can be used alone or in combintaion with other modules. Possibly using GRASS NC SPM sample Location.\n",
      "At least one picture of the result should provided to show the user what to expect.\n",
      "\n",
      "<h2>REFERENCES</h2>\n",
      "\n",
      "Reference or references to paper related to the module or references which the module is based on.\n",
      "\n",
      "<h2>SEE ALSO</h2>\n",
      "\n",
      "List of related or similar GRASS modules or modules used together with this module as well as any related websites,\n",
      "typically pages at GRASS User wiki.\n",
      "\n",
      "<h2>AUTHORS</h2>\n",
      "\n",
      "List of authors, their organizations and funding sources."
     ],
     "language": "python",
     "metadata": {},
     "outputs": [
      {
       "output_type": "stream",
       "stream": "stdout",
       "text": [
        "Writing r.viewshed.points.html\n"
       ]
      }
     ],
     "prompt_number": 20
    },
    {
     "cell_type": "markdown",
     "metadata": {},
     "source": [
      "All GRASS modules must be distributed under GNU GPL license (version 2 or later).\n",
      "There is a specified way how the first comment in module's main file should look like.\n",
      "Here is how it can look like for our module:\n",
      "\n",
      "    \"\"\"\n",
      "    MODULE:    r.viewshed.points\n",
      "\n",
      "    AUTHOR(S): John Smith <email at some domain>\n",
      "\n",
      "    PURPOSE:   Computes viewshed for multiple points\n",
      "\n",
      "    COPYRIGHT: (C) 2007 John Smith\n",
      "\n",
      "               This program is free software under the GNU General Public\n",
      "               License (>=v2). Read the file COPYING that comes with GRASS\n",
      "               for details.\n",
      "    \"\"\""
     ]
    },
    {
     "cell_type": "markdown",
     "metadata": {},
     "source": [
      "Although Python is not compiled language like C, we need to use compile the GRASS module in order to include it in our GRASS installation, create HTML documentation and GUI."
     ]
    },
    {
     "cell_type": "code",
     "collapsed": false,
     "input": [
      "%%file Makefile\n",
      "MODULE_TOPDIR = ../..\n",
      "\n",
      "PGM = d.shade\n",
      "\n",
      "include $(MODULE_TOPDIR)/include/Make/Script.make\n",
      "\n",
      "default: script"
     ],
     "language": "python",
     "metadata": {},
     "outputs": [
      {
       "output_type": "stream",
       "stream": "stdout",
       "text": [
        "Writing Makefile\n"
       ]
      }
     ],
     "prompt_number": 21
    },
    {
     "cell_type": "heading",
     "level": 2,
     "metadata": {},
     "source": [
      "Submitting to GRASS addons reporsitory"
     ]
    },
    {
     "cell_type": "markdown",
     "metadata": {},
     "source": [
      "* Submision rules and best practices\n",
      " - PEP8\n",
      " - ...\n",
      "* RFC\n",
      "* grass-psc\n",
      "* Subversion\n",
      " - `svn add`\n",
      " - `svn commit`"
     ]
    }
   ],
   "metadata": {}
  }
 ]
}
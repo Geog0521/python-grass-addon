{
 "metadata": {
  "name": "",
  "signature": "sha256:a5a4cb405323d688dcd082765284c839d969d4f5ea0498c1121789cb8ec06df5"
 },
 "nbformat": 3,
 "nbformat_minor": 0,
 "worksheets": [
  {
   "cells": [
    {
     "cell_type": "heading",
     "level": 1,
     "metadata": {},
     "source": [
      "Changing a script into a GRASS module"
     ]
    },
    {
     "cell_type": "markdown",
     "metadata": {},
     "source": [
      "First, a Python script must contain shebang which uses `/usr/bin/env` to get the right Python interpreter on unix systems. Second, the code should be contained in functions rather than on the top level."
     ]
    },
    {
     "cell_type": "code",
     "collapsed": false,
     "input": [
      "#!/usr/bin/env python\n",
      "\n",
      "def main():\n",
      "    pass\n",
      "\n",
      "if __name__ == '__main__':\n",
      "    main()\n"
     ],
     "language": "python",
     "metadata": {},
     "outputs": [],
     "prompt_number": 1
    },
    {
     "cell_type": "heading",
     "level": 2,
     "metadata": {},
     "source": [
      "GRASS parser"
     ]
    },
    {
     "cell_type": "markdown",
     "metadata": {},
     "source": [
      "Every GRASS module must use GRASS parser mechanism. In Python, this means calling `parser()` function from `grass.script` package. This function parses special comments at the begining of the Python file, processes parameters provided in command line and reacts accordingly. The special comments start with `#%` and they should contain at least description of the module and two keywords as shown below."
     ]
    },
    {
     "cell_type": "code",
     "collapsed": false,
     "input": [
      "%%file r.viewshed.points.py\n",
      "#!/usr/bin/env python\n",
      "\n",
      "#%module\n",
      "#% description: Compute and analyze viewsheds\n",
      "#% keyword: raster\n",
      "#% keyword: viewshed\n",
      "#%end\n",
      "\n",
      "import grass.script as gscript\n",
      "\n",
      "def main():\n",
      "    gscript.parser()\n",
      "\n",
      "if __name__ == '__main__':\n",
      "    main()\n",
      "\n"
     ],
     "language": "python",
     "metadata": {},
     "outputs": [
      {
       "output_type": "stream",
       "stream": "stdout",
       "text": [
        "Overwriting r.viewshed.points.py\n"
       ]
      }
     ],
     "prompt_number": 2
    },
    {
     "cell_type": "markdown",
     "metadata": {},
     "source": [
      "Note that GRASS parser requires a new line character at the end of file. In this case IPython Notebook requires to include two empty lines at the end of file."
     ]
    },
    {
     "cell_type": "markdown",
     "metadata": {},
     "source": [
      "To run the script, we need to make it an executable."
     ]
    },
    {
     "cell_type": "code",
     "collapsed": false,
     "input": [
      "!chmod u+x r.viewshed.points.py"
     ],
     "language": "python",
     "metadata": {},
     "outputs": [],
     "prompt_number": 3
    },
    {
     "cell_type": "markdown",
     "metadata": {},
     "source": [
      "Now we can execute the script as a GRASS module with `--help` to get the command line help output."
     ]
    },
    {
     "cell_type": "code",
     "collapsed": false,
     "input": [
      "!./r.viewshed.points.py --help"
     ],
     "language": "python",
     "metadata": {},
     "outputs": [
      {
       "output_type": "stream",
       "stream": "stdout",
       "text": [
        "\r\n",
        "Description:\r\n",
        " Compute and analyze viewsheds\r\n",
        "\r\n",
        "Keywords:\r\n",
        " raster, viewshed\r\n",
        "\r\n",
        "Usage:\r\n",
        " r.viewshed.points.py [--help] [--verbose] [--quiet] [--ui]\r\n",
        "\r\n",
        "Flags:\r\n",
        " --h   Print usage summary\r\n",
        " --v   Verbose module output\r\n",
        " --q   Quiet module output\r\n",
        " --ui  Force launching GUI dialog\r\n"
       ]
      }
     ],
     "prompt_number": 4
    }
   ],
   "metadata": {}
  }
 ]
}
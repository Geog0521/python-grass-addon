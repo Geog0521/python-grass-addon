{
 "metadata": {
  "name": "",
  "signature": "sha256:44a470160826b37fff242f6bb2163e0ff1d5686cb4a52187c8f87cb5dcd39c5c"
 },
 "nbformat": 3,
 "nbformat_minor": 0,
 "worksheets": [
  {
   "cells": [
    {
     "cell_type": "heading",
     "level": 1,
     "metadata": {},
     "source": [
      "Next steps"
     ]
    },
    {
     "cell_type": "heading",
     "level": 2,
     "metadata": {},
     "source": [
      "Testing your code"
     ]
    },
    {
     "cell_type": "markdown",
     "metadata": {},
     "source": [
      "To show that your code works as expected and to ensure that it will continue to work in the future, you should write a test for your new module. Such test can be written in as an general script in Python or Bash and there is also Python [doctest](https://docs.python.org/2/library/doctest.html) package to test small portions of code in the module. However, in GRASS GIS version 7.1, there will be a dedicated Python package [gunittest](http://grass.osgeo.org/grass71/manuals/libpython/gunittest_testing.html) which contains functions to make testing of GRASS GIS modules as convenient as possible. The `grass.gunittest` package is currently available in the trunk (the development version).\n",
      "\n",
      "The tests are written as function (method) of a class which inherits from `TestCase` available in `grass.gunittest.case` package. Test function name must start with `test_`. There can be one or more of these `test_` functions. We use `assertModule()` function to call module we are testing with given parameters and we expect the process to finish successfully. The `runModule()` function is used to call modules we are not testing. Functions `setUp()` and `tearDown()` are called before and after every call of the `test_` functions. We don't have to delete the created maps (using `g.remove`), although it might be advantageous to do that as well as using unique names within one class.\n",
      "\n",
      "TODO: this should test our module"
     ]
    },
    {
     "cell_type": "code",
     "collapsed": false,
     "input": [
      "%%python\n",
      "# Only for GRASS GIS 7.1 (and above)\n",
      "from grass.gunittest.case import TestCase\n",
      "from grass.gunittest.main import test\n",
      "\n",
      "class TestSlopeAspect(TestCase):\n",
      "\n",
      "    def setUp(self):\n",
      "        \"\"\"Ensures expected computational region\"\"\"\n",
      "        self.use_temp_region()\n",
      "        self.runModule('g.region', raster='elevation')\n",
      "\n",
      "    def tearDown(self):\n",
      "        self.del_temp_region()\n",
      "\n",
      "    def test_limits(self):\n",
      "        \"\"\"Test that slope and aspect are in expected limits\"\"\"\n",
      "\n",
      "        slope = 'limits_slope'\n",
      "        aspect = 'limits_aspect'\n",
      "        self.assertModule('r.slope.aspect', elevation='elevation',\n",
      "                          slope=slope, aspect=aspect)\n",
      "\n",
      "\n",
      "if __name__ == '__main__':\n",
      "    test()"
     ],
     "language": "python",
     "metadata": {},
     "outputs": []
    },
    {
     "cell_type": "heading",
     "level": 2,
     "metadata": {},
     "source": [
      "Creating a GUI toolbox"
     ]
    },
    {
     "cell_type": "code",
     "collapsed": false,
     "input": [
      "%%file toolboxes.xml\n",
      "<?xml version=\"1.0\" encoding=\"UTF-8\"?>\n",
      "<toolboxes>\n",
      "  <toolbox name=\"Viewsheds\">\n",
      "    <label>Viewsheds</label>\n",
      "    <items>\n",
      "      <module-item name=\"r.viewshed.points\">\n",
      "        <label>Compute special viewsheds</label>\n",
      "      </module-item>\n",
      "      <module-item name=\"r.viewshed\">\n",
      "        <label>Compute standard viewshed</label>\n",
      "      </module-item>\n",
      "      <module-item name=\"g.region\">\n",
      "        <label>Set region</label>\n",
      "      </module-item>\n",
      "      <module-item name=\"v.random\">\n",
      "        <label>Generate random points</label>\n",
      "      </module-item>\n",
      "      <separator/>\n",
      "    </items>\n",
      "  </toolbox>\n",
      "</toolboxes>"
     ],
     "language": "python",
     "metadata": {},
     "outputs": []
    },
    {
     "cell_type": "markdown",
     "metadata": {},
     "source": [
      "You have to copy this `toolboxes.xml` file to GRASS configuration directory in your home directory (`~/.grass/toolboxes/toolboxes.xml` on Linux). Next time you start GRASS GIS GUI (`g.gui`), you will see the new toolbox under user defined toolboxes in the module tree in the *Search module* tab in the *Layer manager* window."
     ]
    },
    {
     "cell_type": "heading",
     "level": 2,
     "metadata": {},
     "source": [
      "GRASS GIS community"
     ]
    },
    {
     "cell_type": "markdown",
     "metadata": {},
     "source": [
      "In case of questions, the best place to ask is [grass-user](http://lists.osgeo.org/listinfo/grass-user) mailing list. This is also a great place to announce your new addon.\n",
      "\n",
      "If you are developing a new addons and we need help you can write do the [grass-dev](http://lists.osgeo.org/listinfo/grass-dev) mailing list.\n",
      "\n",
      "The are also some localized GRASS GIS mailing list, you can see them and more info in the [dedicate web page](http://grass.osgeo.org/support/mailing-lists/)\n",
      "\n",
      "There is also a GRASS GIS community on [Google+](https://plus.google.com/communities/111147786674687562495) waiting for your GRASS GIS related news.\n"
     ]
    },
    {
     "cell_type": "heading",
     "level": 6,
     "metadata": {},
     "source": [
      "We are looking for people with several different skill to improve GRASS GIS project like translator, web designer, webmaster, web content manager, designer and GRASS GIS advocate."
     ]
    },
    {
     "cell_type": "heading",
     "level": 6,
     "metadata": {},
     "source": [
      "You can also help us [sponsoring](http://grass.osgeo.org/support/our-sponsors/) GRASS GIS or [reporting errors or enhancement wish](http://grass.osgeo.org/development/bug-tracking/)"
     ]
    }
   ],
   "metadata": {}
  }
 ]
}
{
 "metadata": {
  "name": "",
  "signature": "sha256:77f23e4e4ec348da8aacfef831b1827b2b1a91ff325262dd4e988bbab0004b4f"
 },
 "nbformat": 3,
 "nbformat_minor": 0,
 "worksheets": [
  {
   "cells": [
    {
     "cell_type": "heading",
     "level": 1,
     "metadata": {},
     "source": [
      "Next steps"
     ]
    },
    {
     "cell_type": "heading",
     "level": 2,
     "metadata": {},
     "source": [
      "Testing your code"
     ]
    },
    {
     "cell_type": "markdown",
     "metadata": {},
     "source": [
      "To show that your code works as expected and to ensure that it will continue to work in the future, you should write a test for your new module. Such test can be written in as an general script in Python or Bash and there is also Python [doctest](https://docs.python.org/2/library/doctest.html) package to test small portions of code in the module. However, in GRASS GIS version 7.1, there will be a dedicated Python package [gunittest](http://grass.osgeo.org/grass71/manuals/libpython/gunittest_testing.html) which contains functions to make testing of GRASS GIS modules as convenient as possible. The `grass.gunittest` package is currently available in the trunk (the developement version).\n",
      "\n",
      "The tests are written as function (method) of a class which inherits from `TestCase` available in `grass.gunittest.case` package. Test function name must start with `test_`. There can be one or more of these `test_` functions. We use `assertModule()` function to call module we are testing with given parameters and we expect the process to finish successfully. The `runModule()` function is used to call modules we are not testing. Functions `setUp()` and `tearDown()` are called before and after every call of the `test_` functions. We don't have to delete the created maps (using `g.remove`), although it might be advantageous to do that as well as using unique names within one class.\n",
      "\n",
      "TODO: this should test our module"
     ]
    },
    {
     "cell_type": "code",
     "collapsed": false,
     "input": [
      "%%python\n",
      "# Only for GRASS GIS 7.1 (and above)\n",
      "from grass.gunittest.case import TestCase\n",
      "from grass.gunittest.main import test\n",
      "\n",
      "class TestSlopeAspect(TestCase):\n",
      "\n",
      "    def setUp(self):\n",
      "        \"\"\"Ensures expected computational region\"\"\"\n",
      "        self.use_temp_region()\n",
      "        self.runModule('g.region', raster='elevation')\n",
      "\n",
      "    def tearDown(self):\n",
      "        self.del_temp_region()\n",
      "\n",
      "    def test_limits(self):\n",
      "        \"\"\"Test that slope and aspect are in expected limits\"\"\"\n",
      "\n",
      "        slope = 'limits_slope'\n",
      "        aspect = 'limits_aspect'\n",
      "        self.assertModule('r.slope.aspect', elevation='elevation',\n",
      "                          slope=slope, aspect=aspect)\n",
      "\n",
      "\n",
      "if __name__ == '__main__':\n",
      "    test()"
     ],
     "language": "python",
     "metadata": {},
     "outputs": [
      {
       "output_type": "stream",
       "stream": "stdout",
       "text": [
        "\n",
        "ERROR: option <slope>: <limits_slope> exists.\n",
        "ERROR: option <aspect>: <limits_aspect> exists.\n",
        "\n"
       ]
      },
      {
       "output_type": "stream",
       "stream": "stderr",
       "text": [
        "F\n",
        "======================================================================\n",
        "FAIL: test_limits (__main__.TestSlopeAspect)\n",
        "Test that slope and aspect are in expected limits\n",
        "----------------------------------------------------------------------\n",
        "Traceback (most recent call last):\n",
        "  File \"<stdin>\", line 20, in test_limits\n",
        "  File \"/home/vasek/dev/grass/trunk-commands/dist.x86_64-unknown-linux-gnu/etc/python/grass/gunittest/case.py\", line 1132, in assertModule\n",
        "    self.fail(self._formatMessage(msg, stdmsg))\n",
        "AssertionError: Running <r.slope.aspect> module ended with non-zero return code (1)\n",
        "Called: r.slope_aspect(elevation='elevation', slope='limits_slope', aspect='limits_aspect', format='degrees', precision='FCELL', zscale=1.0, min_slope=0.0)\n",
        "See the folowing errors:\n",
        "ERROR: option <slope>: <limits_slope> exists.\n",
        "ERROR: option <aspect>: <limits_aspect> exists.\n",
        "\n",
        "\n",
        "----------------------------------------------------------------------\n",
        "Ran 1 test in 0.153s\n",
        "FAILED (failures=1)\n"
       ]
      }
     ],
     "prompt_number": 1
    },
    {
     "cell_type": "heading",
     "level": 2,
     "metadata": {},
     "source": [
      "Creating a GUI toolbox"
     ]
    },
    {
     "cell_type": "code",
     "collapsed": false,
     "input": [
      "%%file toolboxes.xml\n",
      "<?xml version=\"1.0\" encoding=\"UTF-8\"?>\n",
      "<toolboxes>\n",
      "  <toolbox name=\"Viewsheds\">\n",
      "    <label>Viewsheds</label>\n",
      "    <items>\n",
      "      <module-item name=\"r.viewshed.points\">\n",
      "        <label>Compute special viewsheds</label>\n",
      "      </module-item>\n",
      "      <module-item name=\"r.viewshed\">\n",
      "        <label>Compute standard viewshed</label>\n",
      "      </module-item>\n",
      "      <module-item name=\"g.region\">\n",
      "        <label>Set region</label>\n",
      "      </module-item>\n",
      "      <module-item name=\"v.random\">\n",
      "        <label>Generate random points</label>\n",
      "      </module-item>\n",
      "      <separator/>\n",
      "    </items>\n",
      "  </toolbox>\n",
      "</toolboxes>"
     ],
     "language": "python",
     "metadata": {},
     "outputs": [
      {
       "output_type": "stream",
       "stream": "stdout",
       "text": [
        "Overwriting toolboxes.xml\n"
       ]
      }
     ],
     "prompt_number": 2
    },
    {
     "cell_type": "markdown",
     "metadata": {},
     "source": [
      "You have to copy this `toolboxes.xml` file to GRASS confuguration directory in your home directory (`~/.grass/toolboxes/toolboxes.xml` on Linux). Next time you start GRASS GIS GUI (`g.gui`), you will see the new toolbox under user defined toolboxes in the module tree in the *Search module* tab in the *Layer manager* window."
     ]
    },
    {
     "cell_type": "heading",
     "level": 2,
     "metadata": {},
     "source": [
      "GRASS GIS community"
     ]
    },
    {
     "cell_type": "markdown",
     "metadata": {},
     "source": [
      "In case of questions, the best place to ask is [grass-user](http://lists.osgeo.org/listinfo/grass-user) mailing list. This is also a great place to announce your new addon. There is also a GRASS GIS community on [Google+](https://plus.google.com/communities/111147786674687562495) waiting for your new addon. "
     ]
    }
   ],
   "metadata": {}
  }
 ]
}
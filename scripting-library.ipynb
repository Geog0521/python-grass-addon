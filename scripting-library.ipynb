{
 "metadata": {
  "name": "",
  "signature": "sha256:01c1bb0a0ef4b86446ff72048610a6fabbec1646c83fbf9064601c09539d0679"
 },
 "nbformat": 3,
 "nbformat_minor": 0,
 "worksheets": [
  {
   "cells": [
    {
     "cell_type": "heading",
     "level": 1,
     "metadata": {},
     "source": [
      "Introduction to GRASS Python Scripting Library"
     ]
    },
    {
     "cell_type": "markdown",
     "metadata": {},
     "source": [
      "GRASS modules are called from Python as subprocesses. GRASS Python Scripting Library provides functions to make this easy."
     ]
    },
    {
     "cell_type": "heading",
     "level": 2,
     "metadata": {},
     "source": [
      "Calling GRASS modules"
     ]
    },
    {
     "cell_type": "code",
     "collapsed": false,
     "input": [
      "import grass.script as gscript"
     ],
     "language": "python",
     "metadata": {},
     "outputs": [],
     "prompt_number": 1
    },
    {
     "cell_type": "markdown",
     "metadata": {},
     "source": [
      "Before running any GRASS modules, especially the raster ones, one must set the computational region."
     ]
    },
    {
     "cell_type": "code",
     "collapsed": false,
     "input": [
      "gscript.run_command('g.region', raster='elevation')"
     ],
     "language": "python",
     "metadata": {},
     "outputs": [
      {
       "metadata": {},
       "output_type": "pyout",
       "prompt_number": 2,
       "text": [
        "0"
       ]
      }
     ],
     "prompt_number": 2
    },
    {
     "cell_type": "markdown",
     "metadata": {},
     "source": [
      "The `run_command()` function is for the most commonly used one when chaining modules together."
     ]
    },
    {
     "cell_type": "code",
     "collapsed": false,
     "input": [
      "gscript.run_command('r.viewshed', input='elevation', output='viewshed', coordinates=(635818.8, 221342.4), flags='c')"
     ],
     "language": "python",
     "metadata": {},
     "outputs": [
      {
       "metadata": {},
       "output_type": "pyout",
       "prompt_number": 3,
       "text": [
        "0"
       ]
      }
     ],
     "prompt_number": 3
    },
    {
     "cell_type": "markdown",
     "metadata": {},
     "source": [
      "Textual output from modules can be captured using `read_command()` function."
     ]
    },
    {
     "cell_type": "code",
     "collapsed": false,
     "input": [
      "print(gscript.read_command('r.univar', map='viewshed', flags='g'))"
     ],
     "language": "python",
     "metadata": {},
     "outputs": [
      {
       "output_type": "stream",
       "stream": "stdout",
       "text": [
        "n=75550\n",
        "null_cells=1949450\n",
        "cells=2025000\n",
        "min=79.6944198608398\n",
        "max=180\n",
        "range=100.30558013916\n",
        "mean=89.6925044262606\n",
        "mean_of_abs=89.6925044262606\n",
        "stddev=0.438787873873323\n",
        "variance=0.192534798258271\n",
        "coeff_var=0.489213537608447\n",
        "sum=6776268.70940399\n",
        "\n"
       ]
      }
     ],
     "prompt_number": 4
    },
    {
     "cell_type": "markdown",
     "metadata": {},
     "source": [
      "Some modules can output in key-value format which is enabled by `g` flag. The `parse_command()` function automatically parses this output and returns a dictionary."
     ]
    },
    {
     "cell_type": "code",
     "collapsed": false,
     "input": [
      "gscript.parse_command('r.univar', map='viewshed', flags='g')"
     ],
     "language": "python",
     "metadata": {},
     "outputs": [
      {
       "metadata": {},
       "output_type": "pyout",
       "prompt_number": 5,
       "text": [
        "{'cells': '2025000',\n",
        " 'coeff_var': '0.489213537608447',\n",
        " 'max': '180',\n",
        " 'mean': '89.6925044262606',\n",
        " 'mean_of_abs': '89.6925044262606',\n",
        " 'min': '79.6944198608398',\n",
        " 'n': '75550',\n",
        " 'null_cells': '1949450',\n",
        " 'range': '100.30558013916',\n",
        " 'stddev': '0.438787873873323',\n",
        " 'sum': '6776268.70940399',\n",
        " 'variance': '0.192534798258271'}"
       ]
      }
     ],
     "prompt_number": 5
    },
    {
     "cell_type": "code",
     "collapsed": false,
     "input": [
      "gscript.write_command('v.in.ascii', input='-', stdin='%s|%s' % (635818.8, 221342.4), output='view_point')"
     ],
     "language": "python",
     "metadata": {},
     "outputs": [
      {
       "metadata": {},
       "output_type": "pyout",
       "prompt_number": 6,
       "text": [
        "0"
       ]
      }
     ],
     "prompt_number": 6
    },
    {
     "cell_type": "markdown",
     "metadata": {},
     "source": [
      "*stdin* parameter is not used as a module parameter, but its content is passed as standard input to the subprocess."
     ]
    },
    {
     "cell_type": "heading",
     "level": 2,
     "metadata": {},
     "source": [
      "Conveninet wrapper functions"
     ]
    },
    {
     "cell_type": "markdown",
     "metadata": {},
     "source": [
      "Some modules have convenient wrapper functions. For example, `r.mapcalc` wrapper allows using a very long expression."
     ]
    },
    {
     "cell_type": "code",
     "collapsed": false,
     "input": [
      "# TODO: this should be probably changed\n",
      "gscript.mapcalc(\"viewshed_nulls = if(viewshed, 1, null())\")"
     ],
     "language": "python",
     "metadata": {},
     "outputs": [],
     "prompt_number": 7
    },
    {
     "cell_type": "markdown",
     "metadata": {},
     "source": [
      "`g.region` wrapper function provides simpler syntax and returns dictionary with values converted to appropriate type (`float`s and `int`s)."
     ]
    },
    {
     "cell_type": "code",
     "collapsed": false,
     "input": [
      "region = gscript.region()\n",
      "# cell area in map units (in projected Locations)\n",
      "region['nsres'] * region['ewres']"
     ],
     "language": "python",
     "metadata": {},
     "outputs": [
      {
       "metadata": {},
       "output_type": "pyout",
       "prompt_number": 8,
       "text": [
        "100.0"
       ]
      }
     ],
     "prompt_number": 8
    }
   ],
   "metadata": {}
  }
 ]
}
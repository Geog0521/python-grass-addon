{
 "metadata": {
  "name": "",
  "signature": "sha256:4a164e587abea8cfd94c647e21ceb6d2be1e618f35d1061166653f30469a9c0d"
 },
 "nbformat": 3,
 "nbformat_minor": 0,
 "worksheets": [
  {
   "cells": [
    {
     "cell_type": "heading",
     "level": 1,
     "metadata": {},
     "source": [
      "Introduction to GRASS Python Scripting Library"
     ]
    },
    {
     "cell_type": "markdown",
     "metadata": {},
     "source": [
      "GRASS modules are called from Python as subprocesses. GRASS Python Scripting Library provides functions to make this easy."
     ]
    },
    {
     "cell_type": "heading",
     "level": 2,
     "metadata": {},
     "source": [
      "Calling GRASS modules"
     ]
    },
    {
     "cell_type": "code",
     "collapsed": false,
     "input": [
      "import grass.script as gscript"
     ],
     "language": "python",
     "metadata": {},
     "outputs": []
    },
    {
     "cell_type": "markdown",
     "metadata": {},
     "source": [
      "These are all the functions of `grass.script` module"
     ]
    },
    {
     "cell_type": "code",
     "collapsed": false,
     "input": [
      "from utils import attributes\n",
      "attributes(gscript)"
     ],
     "language": "python",
     "metadata": {},
     "outputs": []
    },
    {
     "cell_type": "markdown",
     "metadata": {},
     "source": [
      "Before running any GRASS modules, especially the raster ones, one must set the computational region."
     ]
    },
    {
     "cell_type": "code",
     "collapsed": false,
     "input": [
      "gscript.run_command('g.region', raster='elevation')"
     ],
     "language": "python",
     "metadata": {},
     "outputs": []
    },
    {
     "cell_type": "markdown",
     "metadata": {},
     "source": [
      "The `run_command()` function is for the most commonly used one when chaining modules together."
     ]
    },
    {
     "cell_type": "code",
     "collapsed": false,
     "input": [
      "gscript.run_command('r.viewshed', input='elevation', output='viewshed', coordinates=(635818.8, 221342.4), flags='c')"
     ],
     "language": "python",
     "metadata": {},
     "outputs": []
    },
    {
     "cell_type": "markdown",
     "metadata": {},
     "source": [
      "Textual output from modules can be captured using `read_command()` function."
     ]
    },
    {
     "cell_type": "code",
     "collapsed": false,
     "input": [
      "print(gscript.read_command('r.univar', map='viewshed', flags='g'))"
     ],
     "language": "python",
     "metadata": {},
     "outputs": []
    },
    {
     "cell_type": "markdown",
     "metadata": {},
     "source": [
      "Some modules can output in key-value format which is enabled by `g` flag. The `parse_command()` function automatically parses this output and returns a dictionary."
     ]
    },
    {
     "cell_type": "code",
     "collapsed": false,
     "input": [
      "gscript.parse_command('r.univar', map='viewshed', flags='g')"
     ],
     "language": "python",
     "metadata": {},
     "outputs": []
    },
    {
     "cell_type": "code",
     "collapsed": false,
     "input": [
      "gscript.write_command('v.in.ascii', input='-', stdin='%s|%s' % (635818.8, 221342.4), output='view_point')"
     ],
     "language": "python",
     "metadata": {},
     "outputs": []
    },
    {
     "cell_type": "markdown",
     "metadata": {},
     "source": [
      "*stdin* parameter is not used as a module parameter, but its content is passed as standard input to the subprocess."
     ]
    },
    {
     "cell_type": "heading",
     "level": 2,
     "metadata": {},
     "source": [
      "Conveninet wrapper functions"
     ]
    },
    {
     "cell_type": "markdown",
     "metadata": {},
     "source": [
      "Some modules have convenient wrapper functions."
     ]
    },
    {
     "cell_type": "markdown",
     "metadata": {},
     "source": [
      "We can obtain the information about the vector just created with `v.info` wrapper"
     ]
    },
    {
     "cell_type": "code",
     "collapsed": false,
     "input": [
      "gscript.vector_info('view_point')"
     ],
     "language": "python",
     "metadata": {},
     "outputs": []
    },
    {
     "cell_type": "markdown",
     "metadata": {},
     "source": [
      "It is also possible to get the history (`r.support`), information (`r.info`) or query (`r.what`) a raster"
     ]
    },
    {
     "cell_type": "code",
     "collapsed": false,
     "input": [
      "gscript.raster_what('elevation', [[635818.8, 221342.4], [635710, 221330]])"
     ],
     "language": "python",
     "metadata": {},
     "outputs": []
    },
    {
     "cell_type": "markdown",
     "metadata": {},
     "source": [
      "Another example, `r.mapcalc` wrapper allows using a very long expression."
     ]
    },
    {
     "cell_type": "code",
     "collapsed": false,
     "input": [
      "# TODO: this should be probably changed\n",
      "gscript.mapcalc(\"viewshed_nulls = if(viewshed, 1, null())\")"
     ],
     "language": "python",
     "metadata": {},
     "outputs": []
    },
    {
     "cell_type": "markdown",
     "metadata": {},
     "source": [
      "`g.region` wrapper function provides simpler syntax and returns dictionary with values converted to appropriate type (`float`s and `int`s)."
     ]
    },
    {
     "cell_type": "code",
     "collapsed": false,
     "input": [
      "region = gscript.region()\n",
      "# cell area in map units (in projected Locations)\n",
      "region['nsres'] * region['ewres']"
     ],
     "language": "python",
     "metadata": {},
     "outputs": []
    }
   ],
   "metadata": {}
  }
 ]
}
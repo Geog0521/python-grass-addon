{
 "metadata": {
  "name": "",
  "signature": "sha256:ce79b93e7b2e970dfbb0c1b692351e89d93d6f9410f7975589a25386b9197428"
 },
 "nbformat": 3,
 "nbformat_minor": 0,
 "worksheets": [
  {
   "cells": [
    {
     "cell_type": "heading",
     "level": 1,
     "metadata": {},
     "source": [
      "PyGRASS"
     ]
    },
    {
     "cell_type": "markdown",
     "metadata": {},
     "source": [
      "PyGRASS is a library developed during the Google Summer of Code 2012. The library add two main functionalities:\n",
      "\n",
      "* a python interface through the ctypes binding of the C API of GRASS, to read and write natively with the GRASS data structures.\n",
      "* a GRASS module interface using objects to check the parameters and execute the modules\n",
      "\n",
      "For further discussion about the implementation ideas and performance are presented in the article:\n",
      "\n",
      "[Zambelli, P.; Gebbert, S.; Ciolli, M.\t Pygrass: An Object Oriented Python Application Programming Interface (API) for Geographic Resources Analysis Support System (GRASS) Geographic Information System (GIS). *ISPRS Int. J. Geo-Inf.* 2013, 2, 201-219.](http://www.mdpi.com/2220-9964/2/1/201)"
     ]
    },
    {
     "cell_type": "heading",
     "level": 2,
     "metadata": {},
     "source": [
      "Play with the C API of GRASS through python"
     ]
    },
    {
     "cell_type": "markdown",
     "metadata": {},
     "source": [
      "Scripting GRASS modules with Python it is sometime frustrating especially when you have to do, conceptually simple things, something like: iterate over vector features or raster rows, and then you have to do several workaround such as: \n",
      "- create temporary files, \n",
      "- read and parse these files, \n",
      "- work with the data \n",
      "- and remove all the unnecessary files that were created.\n",
      "\n",
      "With C you can just work directly with the GRASS data and do just what you need to do.\n",
      "The PyGRASS library introduced several objects that allows to interact directly with the data using the C API of GRASS.\n",
      "Three main areas are covered so far:\n",
      "- vectors\n",
      "- rasters\n",
      "- mapsets, region.\n"
     ]
    },
    {
     "cell_type": "heading",
     "level": 3,
     "metadata": {},
     "source": [
      "Vector"
     ]
    },
    {
     "cell_type": "heading",
     "level": 4,
     "metadata": {},
     "source": [
      "Writting a new vector map"
     ]
    },
    {
     "cell_type": "markdown",
     "metadata": {},
     "source": [
      "Import the necessary classes:"
     ]
    },
    {
     "cell_type": "code",
     "collapsed": false,
     "input": [
      "from grass.pygrass.vector import VectorTopo\n",
      "from grass.pygrass.vector.geometry import Point"
     ],
     "language": "python",
     "metadata": {},
     "outputs": []
    },
    {
     "cell_type": "markdown",
     "metadata": {},
     "source": [
      "Create an istance of the vector map, with:"
     ]
    },
    {
     "cell_type": "code",
     "collapsed": false,
     "input": [
      "view_points = VectorTopo('view_points')"
     ],
     "language": "python",
     "metadata": {},
     "outputs": []
    },
    {
     "cell_type": "markdown",
     "metadata": {},
     "source": [
      "Open the map in write mode, with:"
     ]
    },
    {
     "cell_type": "code",
     "collapsed": false,
     "input": [
      "view_points.open(mode='w')"
     ],
     "language": "python",
     "metadata": {},
     "outputs": []
    },
    {
     "cell_type": "markdown",
     "metadata": {},
     "source": [
      "Create some vector geometry features, like two points:"
     ]
    },
    {
     "cell_type": "code",
     "collapsed": false,
     "input": [
      "point1 = Point(635818.8, 221342.4)\n",
      "point2 = Point(633627.7, 227050.2)"
     ],
     "language": "python",
     "metadata": {},
     "outputs": []
    },
    {
     "cell_type": "markdown",
     "metadata": {},
     "source": [
      "Add the above point to the new vector map with:"
     ]
    },
    {
     "cell_type": "code",
     "collapsed": false,
     "input": [
      "view_points.write(point1)\n",
      "view_points.write(point2)"
     ],
     "language": "python",
     "metadata": {},
     "outputs": []
    },
    {
     "cell_type": "markdown",
     "metadata": {},
     "source": [
      "Finally close the vector map, with:"
     ]
    },
    {
     "cell_type": "code",
     "collapsed": false,
     "input": [
      "view_points.close()"
     ],
     "language": "python",
     "metadata": {},
     "outputs": []
    },
    {
     "cell_type": "markdown",
     "metadata": {},
     "source": [
      "Do the same thing using the [context manager syntax](https://www.python.org/dev/peps/pep-0343/) provided by `with`, and creating and setting also the attribute table, write:"
     ]
    },
    {
     "cell_type": "code",
     "collapsed": false,
     "input": [
      "# Define the columns of the new vector map\n",
      "cols = [(u'cat',       'INTEGER PRIMARY KEY'),\n",
      "        (u'name',      'TEXT')]\n",
      "\n",
      "with VectorTopo('view_points', mode='w', tab_cols=cols, overwrite=True) as view_points:\n",
      "    # save the point and the attribute\n",
      "    view_points.write(point1, ('pub', ))\n",
      "    view_points.write(point2, ('restaurant', ))\n",
      "    # save the changes to the database\n",
      "    view_points.table.conn.commit()"
     ],
     "language": "python",
     "metadata": {},
     "outputs": []
    },
    {
     "cell_type": "markdown",
     "metadata": {},
     "source": [
      "Note: we don't need to close the vector map because it is already closed by the context manager."
     ]
    },
    {
     "cell_type": "heading",
     "level": 4,
     "metadata": {},
     "source": [
      "Reading an existing vector"
     ]
    },
    {
     "cell_type": "code",
     "collapsed": false,
     "input": [
      "with VectorTopo('view_points', mode='r') as points:\n",
      "    for point in points:\n",
      "        print(point, point.attrs['name'])"
     ],
     "language": "python",
     "metadata": {},
     "outputs": []
    },
    {
     "cell_type": "heading",
     "level": 3,
     "metadata": {},
     "source": [
      "Raster"
     ]
    },
    {
     "cell_type": "markdown",
     "metadata": {},
     "source": [
      "A class with similar behaviour has been created for rasters, import this class with:"
     ]
    },
    {
     "cell_type": "code",
     "collapsed": false,
     "input": [
      "from grass.pygrass.raster import RasterRow"
     ],
     "language": "python",
     "metadata": {},
     "outputs": []
    },
    {
     "cell_type": "heading",
     "level": 4,
     "metadata": {},
     "source": [
      "Reading an existing raster map"
     ]
    },
    {
     "cell_type": "markdown",
     "metadata": {},
     "source": [
      "Instanziate a raster class with:"
     ]
    },
    {
     "cell_type": "code",
     "collapsed": false,
     "input": [
      "elev = RasterRow('elevation', mapset='PERMANENT')"
     ],
     "language": "python",
     "metadata": {},
     "outputs": []
    },
    {
     "cell_type": "markdown",
     "metadata": {},
     "source": [
      "As with the vector we can open the raster data with:"
     ]
    },
    {
     "cell_type": "code",
     "collapsed": false,
     "input": [
      "elev.open(mode='r')"
     ],
     "language": "python",
     "metadata": {},
     "outputs": []
    },
    {
     "cell_type": "markdown",
     "metadata": {},
     "source": [
      "Then we have access row by row to the whole raster map, bellow it is reported an example to access to the first row:"
     ]
    },
    {
     "cell_type": "code",
     "collapsed": false,
     "input": [
      "row = elev[0]"
     ],
     "language": "python",
     "metadata": {},
     "outputs": []
    },
    {
     "cell_type": "code",
     "collapsed": false,
     "input": [
      "row"
     ],
     "language": "python",
     "metadata": {},
     "outputs": []
    },
    {
     "cell_type": "markdown",
     "metadata": {},
     "source": [
      "Row instances inherit from the numpy array, therefore you can treat them as numpy arrays:"
     ]
    },
    {
     "cell_type": "code",
     "collapsed": false,
     "input": [
      "row * 2"
     ],
     "language": "python",
     "metadata": {},
     "outputs": []
    },
    {
     "cell_type": "code",
     "collapsed": false,
     "input": [
      "row.shape"
     ],
     "language": "python",
     "metadata": {},
     "outputs": []
    },
    {
     "cell_type": "markdown",
     "metadata": {},
     "source": [
      "To convert the whole raster map to a numpy array, and back to a GRASS raster map, we can define two functions like:"
     ]
    },
    {
     "cell_type": "code",
     "collapsed": false,
     "input": [
      "import numpy as np\n",
      "\n",
      "from grass.pygrass.raster.buffer import Buffer\n",
      "from grass.pygrass.gis.region import Region\n",
      "\n",
      "def raster2numpy(rastname, mapset=''):\n",
      "    \"\"\"Return a numpy array from a raster map\"\"\"\n",
      "    with RasterRow(rastname, mapset=mapset, mode='r') as rast:\n",
      "        return np.array(rast)\n",
      "\n",
      "\n",
      "def numpy2raster(array, mtype, rastname, overwrite=False):\n",
      "    \"\"\"Save a numpy array to a raster map\"\"\"\n",
      "    reg = Region()\n",
      "    if (reg.rows, reg.cols) != array.shape:\n",
      "        msg = \"Region and array are different: %r != %r\"\n",
      "        raise TypeError(msg % ((reg.rows, reg.cols), array.shape))\n",
      "    with RasterRow(rastname, mode='w', mtype=mtype, overwrite=overwrite) as new:\n",
      "        newrow = Buffer((array.shape[1],), mtype=mtype)\n",
      "        for row in array:\n",
      "            newrow[:] = row[:]\n",
      "            new.put_row(newrow)"
     ],
     "language": "python",
     "metadata": {},
     "outputs": []
    },
    {
     "cell_type": "code",
     "collapsed": false,
     "input": [
      "elev = raster2numpy('elevation', mapset='PERMANENT')"
     ],
     "language": "python",
     "metadata": {},
     "outputs": []
    },
    {
     "cell_type": "code",
     "collapsed": false,
     "input": [
      "elev"
     ],
     "language": "python",
     "metadata": {},
     "outputs": []
    },
    {
     "cell_type": "code",
     "collapsed": false,
     "input": [
      "numpy2raster(elev * 2, mtype='FCELL', rastname='doubled_elev', overwrite=True)"
     ],
     "language": "python",
     "metadata": {},
     "outputs": []
    },
    {
     "cell_type": "code",
     "collapsed": false,
     "input": [
      "# import a function to render the results\n",
      "from render import view\n",
      "\n",
      "from grass.pygrass.modules.shortcuts import raster as r\n",
      "\n",
      "# set the colors of the input and output maps\n",
      "r.colors(map='elevation@PERMANENT,doubled_elev', raster='elevation')"
     ],
     "language": "python",
     "metadata": {},
     "outputs": []
    },
    {
     "cell_type": "code",
     "collapsed": false,
     "input": [
      "view(['elevation@PERMANENT'])"
     ],
     "language": "python",
     "metadata": {},
     "outputs": []
    },
    {
     "cell_type": "code",
     "collapsed": false,
     "input": [
      "view(['doubled_elev'])"
     ],
     "language": "python",
     "metadata": {},
     "outputs": []
    },
    {
     "cell_type": "heading",
     "level": 2,
     "metadata": {},
     "source": [
      "Calling GRASS modules"
     ]
    },
    {
     "cell_type": "markdown",
     "metadata": {},
     "source": [
      "Import the Module class from the pygrass library, with:"
     ]
    },
    {
     "cell_type": "code",
     "collapsed": false,
     "input": [
      "from grass.pygrass.modules import Module"
     ],
     "language": "python",
     "metadata": {},
     "outputs": []
    },
    {
     "cell_type": "markdown",
     "metadata": {},
     "source": [
      "Execute the the GRASS module with:"
     ]
    },
    {
     "cell_type": "code",
     "collapsed": false,
     "input": [
      "viewshed = Module('r.viewshed', input='elevation', output='viewshed2', coordinates=(635818.8, 221342.4), flags='c')"
     ],
     "language": "python",
     "metadata": {},
     "outputs": []
    },
    {
     "cell_type": "markdown",
     "metadata": {},
     "source": [
      "We can play with the python instance asking for inputs and outputs parameters and flags"
     ]
    },
    {
     "cell_type": "code",
     "collapsed": false,
     "input": [
      "viewshed.inputs.input"
     ],
     "language": "python",
     "metadata": {},
     "outputs": []
    },
    {
     "cell_type": "code",
     "collapsed": false,
     "input": [
      "viewshed.inputs.coordinates"
     ],
     "language": "python",
     "metadata": {},
     "outputs": []
    },
    {
     "cell_type": "code",
     "collapsed": false,
     "input": [
      "viewshed.outputs.output"
     ],
     "language": "python",
     "metadata": {},
     "outputs": []
    },
    {
     "cell_type": "code",
     "collapsed": false,
     "input": [
      "viewshed.flags.c"
     ],
     "language": "python",
     "metadata": {},
     "outputs": []
    },
    {
     "cell_type": "markdown",
     "metadata": {},
     "source": [
      "We can change the parameters values, parameter by parameter with:"
     ]
    },
    {
     "cell_type": "code",
     "collapsed": false,
     "input": [
      "viewshed.inputs.coordinates = [(635825, 221350)]"
     ],
     "language": "python",
     "metadata": {},
     "outputs": []
    },
    {
     "cell_type": "markdown",
     "metadata": {},
     "source": [
      "Or re-execute the module passing only the parameters that need to be different:"
     ]
    },
    {
     "cell_type": "code",
     "collapsed": false,
     "input": [
      "viewshed(output='vieshed_newpoint')"
     ],
     "language": "python",
     "metadata": {},
     "outputs": []
    },
    {
     "cell_type": "markdown",
     "metadata": {},
     "source": [
      "We can ask the command string that will be execute in both BASH and python versions"
     ]
    },
    {
     "cell_type": "code",
     "collapsed": false,
     "input": [
      "viewshed.get_bash()"
     ],
     "language": "python",
     "metadata": {},
     "outputs": []
    },
    {
     "cell_type": "code",
     "collapsed": false,
     "input": [
      "viewshed.get_python()"
     ],
     "language": "python",
     "metadata": {},
     "outputs": []
    },
    {
     "cell_type": "heading",
     "level": 3,
     "metadata": {},
     "source": [
      "Extra parametters of the Module class"
     ]
    },
    {
     "cell_type": "heading",
     "level": 4,
     "metadata": {},
     "source": [
      "run\\_"
     ]
    },
    {
     "cell_type": "markdown",
     "metadata": {},
     "source": [
      "The `run_` parameter define if the module must be execute or not, the default value is True."
     ]
    },
    {
     "cell_type": "heading",
     "level": 4,
     "metadata": {},
     "source": [
      "finish\\_"
     ]
    },
    {
     "cell_type": "markdown",
     "metadata": {},
     "source": [
      "The `finish_` parameter define if the module have to wait the end of the process, default is True"
     ]
    },
    {
     "cell_type": "heading",
     "level": 4,
     "metadata": {},
     "source": [
      "env\\_"
     ]
    },
    {
     "cell_type": "markdown",
     "metadata": {},
     "source": [
      "The `env_` parameter set the environmental variable that will be set and use by the process."
     ]
    },
    {
     "cell_type": "heading",
     "level": 4,
     "metadata": {},
     "source": [
      "stdin\\_, stdout\\_, stderr\\_"
     ]
    },
    {
     "cell_type": "markdown",
     "metadata": {},
     "source": [
      "The parameters `stdin_`, `stdout_` and `stderr_` are used to pass or caputer the input or the output of the GRASS modules."
     ]
    },
    {
     "cell_type": "heading",
     "level": 4,
     "metadata": {},
     "source": [
      "Example"
     ]
    },
    {
     "cell_type": "code",
     "collapsed": false,
     "input": [
      "import subprocess as sub\n",
      "\n",
      "# Another way to use the Module class objects is through the shortcuts\n",
      "# import the shortcuts for the general modules\n",
      "from grass.pygrass.modules.shortcuts import general as g"
     ],
     "language": "python",
     "metadata": {},
     "outputs": []
    },
    {
     "cell_type": "markdown",
     "metadata": {},
     "source": [
      "Now we can call and capture the stdout of a GRASS modules, with:"
     ]
    },
    {
     "cell_type": "code",
     "collapsed": false,
     "input": [
      "greg = g.region(flags='p', stdout_=sub.PIPE)\n",
      "print(greg.outputs.stdout)"
     ],
     "language": "python",
     "metadata": {},
     "outputs": []
    },
    {
     "cell_type": "heading",
     "level": 2,
     "metadata": {},
     "source": [
      "Region"
     ]
    },
    {
     "cell_type": "markdown",
     "metadata": {},
     "source": [
      "This class is design to easily access and modify GRASS computational region"
     ]
    },
    {
     "cell_type": "code",
     "collapsed": false,
     "input": [
      "from grass.pygrass.gis.region import Region"
     ],
     "language": "python",
     "metadata": {},
     "outputs": []
    },
    {
     "cell_type": "markdown",
     "metadata": {},
     "source": [
      "We create two different `Region` object, the `current_original` will be used to restore current region"
     ]
    },
    {
     "cell_type": "code",
     "collapsed": false,
     "input": [
      "current_original = Region()\n",
      "current = Region()\n",
      "current_original == current"
     ],
     "language": "python",
     "metadata": {},
     "outputs": []
    },
    {
     "cell_type": "markdown",
     "metadata": {},
     "source": [
      "We can see all the information about region"
     ]
    },
    {
     "cell_type": "code",
     "collapsed": false,
     "input": [
      "current.items()"
     ],
     "language": "python",
     "metadata": {},
     "outputs": []
    },
    {
     "cell_type": "markdown",
     "metadata": {},
     "source": [
      "It is possible to modify some values"
     ]
    },
    {
     "cell_type": "code",
     "collapsed": false,
     "input": [
      "current.west = (current.west + current.east) / 2\n",
      "current.south = (current.south + current.north) / 2\n",
      "current.items()"
     ],
     "language": "python",
     "metadata": {},
     "outputs": []
    },
    {
     "cell_type": "code",
     "collapsed": false,
     "input": [
      "current == current_original"
     ],
     "language": "python",
     "metadata": {},
     "outputs": []
    },
    {
     "cell_type": "markdown",
     "metadata": {},
     "source": [
      "Now the two `Region` objects are different but the GRASS computational region it is not modified yet"
     ]
    },
    {
     "cell_type": "code",
     "collapsed": false,
     "input": [
      "import numpy as np\n",
      "np.mean(elev)"
     ],
     "language": "python",
     "metadata": {},
     "outputs": []
    },
    {
     "cell_type": "code",
     "collapsed": false,
     "input": [
      "newele = RasterRow('elevation', mapset='PERMANENT')\n",
      "newele.open(mode='r')\n",
      "np.mean(newele)"
     ],
     "language": "python",
     "metadata": {},
     "outputs": []
    },
    {
     "cell_type": "markdown",
     "metadata": {},
     "source": [
      "Now we are going to set the new information to the GRASS computational region"
     ]
    },
    {
     "cell_type": "code",
     "collapsed": false,
     "input": [
      "current.set_current()"
     ],
     "language": "python",
     "metadata": {},
     "outputs": []
    },
    {
     "cell_type": "code",
     "collapsed": false,
     "input": [
      "newele = RasterRow('elevation', mapset='PERMANENT')\n",
      "newele.open(mode='r')\n",
      "np.mean(newele)"
     ],
     "language": "python",
     "metadata": {},
     "outputs": []
    },
    {
     "cell_type": "code",
     "collapsed": false,
     "input": [
      "univar = Module('r.univar', map='elevation', flags='g', stdout_=sub.PIPE)\n",
      "print(univar.outputs.stdout)"
     ],
     "language": "python",
     "metadata": {},
     "outputs": []
    },
    {
     "cell_type": "code",
     "collapsed": false,
     "input": [
      "current_original.set_current()"
     ],
     "language": "python",
     "metadata": {},
     "outputs": []
    }
   ],
   "metadata": {}
  }
 ]
}
